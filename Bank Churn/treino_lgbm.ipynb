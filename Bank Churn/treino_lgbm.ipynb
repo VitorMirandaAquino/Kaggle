{
 "cells": [
  {
   "cell_type": "markdown",
   "metadata": {},
   "source": [
    "# Summary\n",
    "\n",
    "Welcome to the Binary Classification with Bank Churn Dataset competition! In this challenge, our goal is to predict customer churn based on a comprehensive set of information. The dataset comprises 13 columns, each offering valuable insights into customer behavior and characteristics:\n",
    "\n",
    "    01. Customer ID: A unique identifier for each customer.\n",
    "    02. Surname: The customer's last name or surname.\n",
    "    03. Credit Score: A numerical representation of the customer's credit score.\n",
    "    04. Geography: The country where the customer resides, with options including France, Spain, or Germany.\n",
    "    05. Gender: The customer's gender, categorized as Male or Female.\n",
    "    06. Age: The customer's age.\n",
    "    07. Tenure: The number of years the customer has been associated with the bank.  \n",
    "    08. Balance: The current account balance of the customer.\n",
    "    09. NumOfProducts: The count of bank products the customer uses, such as savings accounts or credit cards.\n",
    "    10. HasCrCard: A binary indicator of whether the customer possesses a credit card (1 = yes, 0 = no).\n",
    "    11. IsActiveMember: A binary indicator of the customer's active membership status (1 = yes, 0 = no).\n",
    "    12. EstimatedSalary: The estimated salary of the customer.\n",
    "    13. Exited: The target variable indicating whether the customer has churned (1 = yes, 0 = no).\n",
    "    \n",
    "Throughout the competition, our performance will be evaluated using the Area Under the ROC Curve (AUC-ROC) metric, a widely-used measure for assessing binary classification models. For more details about the original dataset, please refer to the Kaggle dataset page: [Bank Customer Churn Prediction](https://www.kaggle.com/datasets/shantanudhakadd/bank-customer-churn-prediction). Let's embark on this predictive analytics journey and strive for accurate churn predictions!"
   ]
  },
  {
   "cell_type": "markdown",
   "metadata": {},
   "source": [
    "# Imports"
   ]
  },
  {
   "cell_type": "code",
   "execution_count": 1,
   "metadata": {},
   "outputs": [
    {
     "name": "stderr",
     "output_type": "stream",
     "text": [
      "c:\\Users\\Vitor\\Documents\\Repositórios\\Kaggle\\.venv\\Lib\\site-packages\\tqdm\\auto.py:21: TqdmWarning: IProgress not found. Please update jupyter and ipywidgets. See https://ipywidgets.readthedocs.io/en/stable/user_install.html\n",
      "  from .autonotebook import tqdm as notebook_tqdm\n"
     ]
    }
   ],
   "source": [
    "# Libraries for data wrangling\n",
    "import pandas as pd\n",
    "import numpy as np \n",
    "# Libraries for data visualization\n",
    "import matplotlib.pyplot as plt\n",
    "import seaborn as sns\n",
    "#Library to see the progress\n",
    "from tqdm import tqdm\n",
    "\n",
    "\n",
    "# Libraries with functions used in modelling\n",
    "from sklearn.base import clone\n",
    "from sklearn.inspection import permutation_importance\n",
    "from scipy.cluster.hierarchy import dendrogram, linkage\n",
    "from scipy.spatial.distance import squareform\n",
    "from category_encoders import MEstimateEncoder\n",
    "from sklearn.pipeline import make_pipeline\n",
    "from sklearn.model_selection import StratifiedKFold, train_test_split\n",
    "from sklearn.metrics import roc_auc_score, roc_curve, make_scorer, mean_squared_error, accuracy_score\n",
    "from sklearn.preprocessing import OneHotEncoder, LabelEncoder\n",
    "from sklearn.preprocessing import StandardScaler, MinMaxScaler, MaxAbsScaler\n",
    "\n",
    "# Libraries with the models\n",
    "from sklearn.linear_model import LogisticRegression, RidgeClassifier\n",
    "from sklearn.ensemble import RandomForestClassifier\n",
    "from sklearn.ensemble import RandomForestClassifier, ExtraTreesClassifier\n",
    "from sklearn.ensemble import HistGradientBoostingClassifier, GradientBoostingClassifier, VotingClassifier\n",
    "from sklearn.naive_bayes import GaussianNB, BernoulliNB\n",
    "from sklearn.discriminant_analysis import LinearDiscriminantAnalysis\n",
    "from catboost import CatBoostClassifier\n",
    "from lightgbm import LGBMClassifier\n",
    "from xgboost import XGBClassifier\n",
    "import optuna\n",
    "\n",
    "# Library to ignore warnings\n",
    "import warnings\n",
    "warnings.filterwarnings(\"ignore\")"
   ]
  },
  {
   "cell_type": "code",
   "execution_count": 2,
   "metadata": {},
   "outputs": [],
   "source": [
    "sns.set_theme(style = 'white', palette = 'viridis')\n",
    "pal = sns.color_palette('viridis')"
   ]
  },
  {
   "cell_type": "code",
   "execution_count": 3,
   "metadata": {},
   "outputs": [],
   "source": [
    "seed = 10"
   ]
  },
  {
   "cell_type": "markdown",
   "metadata": {},
   "source": [
    "# Loading data"
   ]
  },
  {
   "cell_type": "code",
   "execution_count": 4,
   "metadata": {},
   "outputs": [],
   "source": [
    "df_train = pd.read_csv(\"data/train.csv\", index_col='id')\n",
    "df_test = pd.read_csv(\"data/test.csv\", index_col='id')"
   ]
  },
  {
   "cell_type": "code",
   "execution_count": 5,
   "metadata": {},
   "outputs": [],
   "source": [
    "numerical_features = list(df_test._get_numeric_data())\n",
    "categorical_features = list(df_test.drop(numerical_features, axis = 1))"
   ]
  },
  {
   "cell_type": "markdown",
   "metadata": {},
   "source": [
    "# Encoding of the data"
   ]
  },
  {
   "cell_type": "code",
   "execution_count": 6,
   "metadata": {},
   "outputs": [],
   "source": [
    "# 'categorical_columns' should contain the names of the categorical columns you want to encode\n",
    "onehot_columns = ['Geography', 'Gender']  # replace with your actual column names\n",
    "\n",
    "# Extract the categorical columns from the DataFrame\n",
    "df_onehot = df_train[onehot_columns]\n",
    "\n",
    "# Create an instance of OneHotEncoder\n",
    "encoder = OneHotEncoder(handle_unknown='ignore', sparse=False)\n",
    "\n",
    "# Fit and transform the categorical columns\n",
    "df_train_encoded = pd.DataFrame(encoder.fit_transform(df_onehot), columns=encoder.get_feature_names_out(onehot_columns))\n",
    "\n",
    "# Concatenate the one-hot encoded columns with the original DataFrame\n",
    "df_train = pd.concat([df_train, df_train_encoded], axis=1)\n",
    "\n",
    "# Drop the original categorical columns if needed\n",
    "df_train = df_train.drop(onehot_columns, axis=1)\n",
    "\n",
    "\n"
   ]
  },
  {
   "cell_type": "code",
   "execution_count": 7,
   "metadata": {},
   "outputs": [],
   "source": [
    "mencoder = MEstimateEncoder(cols=['Surname'])"
   ]
  },
  {
   "cell_type": "code",
   "execution_count": 8,
   "metadata": {},
   "outputs": [],
   "source": [
    "df_train_mencoded = mencoder.fit_transform(df_train.drop(columns=['Exited']), df_train.Exited)"
   ]
  },
  {
   "cell_type": "code",
   "execution_count": 9,
   "metadata": {},
   "outputs": [],
   "source": [
    "# 'categorical_columns' should contain the names of the categorical columns you want to encode\n",
    "onehot_columns = ['Geography', 'Gender']  # replace with your actual column names\n",
    "\n",
    "# Extract the categorical columns from the DataFrame\n",
    "df_onehot_test = df_test[onehot_columns]\n",
    "\n",
    "# Create an instance of OneHotEncoder\n",
    "encoder = OneHotEncoder(handle_unknown='ignore', sparse=False)\n",
    "\n",
    "# Fit and transform the categorical columns\n",
    "df_test_encoded = pd.DataFrame(encoder.fit_transform(df_onehot_test), columns=encoder.get_feature_names_out(onehot_columns))\n",
    "\n",
    "# Drop the original categorical columns if needed\n",
    "df_test = pd.merge(left=df_test.reset_index().reset_index(), right=df_test_encoded.reset_index(), how='inner', on='index').drop(columns=['index'] + onehot_columns)"
   ]
  },
  {
   "cell_type": "code",
   "execution_count": 10,
   "metadata": {},
   "outputs": [],
   "source": [
    "df_test = df_test.set_index('id')"
   ]
  },
  {
   "cell_type": "code",
   "execution_count": 11,
   "metadata": {},
   "outputs": [],
   "source": [
    "df_test_mencoded = mencoder.transform(df_test)"
   ]
  },
  {
   "cell_type": "code",
   "execution_count": 12,
   "metadata": {},
   "outputs": [
    {
     "data": {
      "text/html": [
       "<div>\n",
       "<style scoped>\n",
       "    .dataframe tbody tr th:only-of-type {\n",
       "        vertical-align: middle;\n",
       "    }\n",
       "\n",
       "    .dataframe tbody tr th {\n",
       "        vertical-align: top;\n",
       "    }\n",
       "\n",
       "    .dataframe thead th {\n",
       "        text-align: right;\n",
       "    }\n",
       "</style>\n",
       "<table border=\"1\" class=\"dataframe\">\n",
       "  <thead>\n",
       "    <tr style=\"text-align: right;\">\n",
       "      <th></th>\n",
       "      <th>CustomerId</th>\n",
       "      <th>Surname</th>\n",
       "      <th>CreditScore</th>\n",
       "      <th>Age</th>\n",
       "      <th>Tenure</th>\n",
       "      <th>Balance</th>\n",
       "      <th>NumOfProducts</th>\n",
       "      <th>HasCrCard</th>\n",
       "      <th>IsActiveMember</th>\n",
       "      <th>EstimatedSalary</th>\n",
       "      <th>Geography_France</th>\n",
       "      <th>Geography_Germany</th>\n",
       "      <th>Geography_Spain</th>\n",
       "      <th>Gender_Female</th>\n",
       "      <th>Gender_Male</th>\n",
       "    </tr>\n",
       "    <tr>\n",
       "      <th>id</th>\n",
       "      <th></th>\n",
       "      <th></th>\n",
       "      <th></th>\n",
       "      <th></th>\n",
       "      <th></th>\n",
       "      <th></th>\n",
       "      <th></th>\n",
       "      <th></th>\n",
       "      <th></th>\n",
       "      <th></th>\n",
       "      <th></th>\n",
       "      <th></th>\n",
       "      <th></th>\n",
       "      <th></th>\n",
       "      <th></th>\n",
       "    </tr>\n",
       "  </thead>\n",
       "  <tbody>\n",
       "    <tr>\n",
       "      <th>165034</th>\n",
       "      <td>15773898</td>\n",
       "      <td>0.188126</td>\n",
       "      <td>586</td>\n",
       "      <td>23.0</td>\n",
       "      <td>2</td>\n",
       "      <td>0.00</td>\n",
       "      <td>2</td>\n",
       "      <td>0.0</td>\n",
       "      <td>1.0</td>\n",
       "      <td>160976.75</td>\n",
       "      <td>1.0</td>\n",
       "      <td>0.0</td>\n",
       "      <td>0.0</td>\n",
       "      <td>1.0</td>\n",
       "      <td>0.0</td>\n",
       "    </tr>\n",
       "    <tr>\n",
       "      <th>165035</th>\n",
       "      <td>15782418</td>\n",
       "      <td>0.263225</td>\n",
       "      <td>683</td>\n",
       "      <td>46.0</td>\n",
       "      <td>2</td>\n",
       "      <td>0.00</td>\n",
       "      <td>1</td>\n",
       "      <td>1.0</td>\n",
       "      <td>0.0</td>\n",
       "      <td>72549.27</td>\n",
       "      <td>1.0</td>\n",
       "      <td>0.0</td>\n",
       "      <td>0.0</td>\n",
       "      <td>1.0</td>\n",
       "      <td>0.0</td>\n",
       "    </tr>\n",
       "    <tr>\n",
       "      <th>165036</th>\n",
       "      <td>15807120</td>\n",
       "      <td>0.175690</td>\n",
       "      <td>656</td>\n",
       "      <td>34.0</td>\n",
       "      <td>7</td>\n",
       "      <td>0.00</td>\n",
       "      <td>2</td>\n",
       "      <td>1.0</td>\n",
       "      <td>0.0</td>\n",
       "      <td>138882.09</td>\n",
       "      <td>1.0</td>\n",
       "      <td>0.0</td>\n",
       "      <td>0.0</td>\n",
       "      <td>1.0</td>\n",
       "      <td>0.0</td>\n",
       "    </tr>\n",
       "    <tr>\n",
       "      <th>165037</th>\n",
       "      <td>15808905</td>\n",
       "      <td>0.187270</td>\n",
       "      <td>681</td>\n",
       "      <td>36.0</td>\n",
       "      <td>8</td>\n",
       "      <td>0.00</td>\n",
       "      <td>1</td>\n",
       "      <td>1.0</td>\n",
       "      <td>0.0</td>\n",
       "      <td>113931.57</td>\n",
       "      <td>1.0</td>\n",
       "      <td>0.0</td>\n",
       "      <td>0.0</td>\n",
       "      <td>0.0</td>\n",
       "      <td>1.0</td>\n",
       "    </tr>\n",
       "    <tr>\n",
       "      <th>165038</th>\n",
       "      <td>15607314</td>\n",
       "      <td>0.267633</td>\n",
       "      <td>752</td>\n",
       "      <td>38.0</td>\n",
       "      <td>10</td>\n",
       "      <td>121263.62</td>\n",
       "      <td>1</td>\n",
       "      <td>1.0</td>\n",
       "      <td>0.0</td>\n",
       "      <td>139431.00</td>\n",
       "      <td>0.0</td>\n",
       "      <td>1.0</td>\n",
       "      <td>0.0</td>\n",
       "      <td>0.0</td>\n",
       "      <td>1.0</td>\n",
       "    </tr>\n",
       "    <tr>\n",
       "      <th>...</th>\n",
       "      <td>...</td>\n",
       "      <td>...</td>\n",
       "      <td>...</td>\n",
       "      <td>...</td>\n",
       "      <td>...</td>\n",
       "      <td>...</td>\n",
       "      <td>...</td>\n",
       "      <td>...</td>\n",
       "      <td>...</td>\n",
       "      <td>...</td>\n",
       "      <td>...</td>\n",
       "      <td>...</td>\n",
       "      <td>...</td>\n",
       "      <td>...</td>\n",
       "      <td>...</td>\n",
       "    </tr>\n",
       "    <tr>\n",
       "      <th>275052</th>\n",
       "      <td>15662091</td>\n",
       "      <td>0.161045</td>\n",
       "      <td>570</td>\n",
       "      <td>29.0</td>\n",
       "      <td>7</td>\n",
       "      <td>116099.82</td>\n",
       "      <td>1</td>\n",
       "      <td>1.0</td>\n",
       "      <td>1.0</td>\n",
       "      <td>148087.62</td>\n",
       "      <td>0.0</td>\n",
       "      <td>0.0</td>\n",
       "      <td>1.0</td>\n",
       "      <td>0.0</td>\n",
       "      <td>1.0</td>\n",
       "    </tr>\n",
       "    <tr>\n",
       "      <th>275053</th>\n",
       "      <td>15774133</td>\n",
       "      <td>0.242410</td>\n",
       "      <td>575</td>\n",
       "      <td>36.0</td>\n",
       "      <td>4</td>\n",
       "      <td>178032.53</td>\n",
       "      <td>1</td>\n",
       "      <td>1.0</td>\n",
       "      <td>1.0</td>\n",
       "      <td>42181.68</td>\n",
       "      <td>1.0</td>\n",
       "      <td>0.0</td>\n",
       "      <td>0.0</td>\n",
       "      <td>1.0</td>\n",
       "      <td>0.0</td>\n",
       "    </tr>\n",
       "    <tr>\n",
       "      <th>275054</th>\n",
       "      <td>15728456</td>\n",
       "      <td>0.271010</td>\n",
       "      <td>712</td>\n",
       "      <td>31.0</td>\n",
       "      <td>2</td>\n",
       "      <td>0.00</td>\n",
       "      <td>2</td>\n",
       "      <td>1.0</td>\n",
       "      <td>0.0</td>\n",
       "      <td>16287.38</td>\n",
       "      <td>1.0</td>\n",
       "      <td>0.0</td>\n",
       "      <td>0.0</td>\n",
       "      <td>0.0</td>\n",
       "      <td>1.0</td>\n",
       "    </tr>\n",
       "    <tr>\n",
       "      <th>275055</th>\n",
       "      <td>15687541</td>\n",
       "      <td>0.255843</td>\n",
       "      <td>709</td>\n",
       "      <td>32.0</td>\n",
       "      <td>3</td>\n",
       "      <td>0.00</td>\n",
       "      <td>1</td>\n",
       "      <td>1.0</td>\n",
       "      <td>1.0</td>\n",
       "      <td>158816.58</td>\n",
       "      <td>1.0</td>\n",
       "      <td>0.0</td>\n",
       "      <td>0.0</td>\n",
       "      <td>1.0</td>\n",
       "      <td>0.0</td>\n",
       "    </tr>\n",
       "    <tr>\n",
       "      <th>275056</th>\n",
       "      <td>15663942</td>\n",
       "      <td>0.160697</td>\n",
       "      <td>621</td>\n",
       "      <td>37.0</td>\n",
       "      <td>7</td>\n",
       "      <td>87848.39</td>\n",
       "      <td>1</td>\n",
       "      <td>1.0</td>\n",
       "      <td>0.0</td>\n",
       "      <td>24210.56</td>\n",
       "      <td>1.0</td>\n",
       "      <td>0.0</td>\n",
       "      <td>0.0</td>\n",
       "      <td>1.0</td>\n",
       "      <td>0.0</td>\n",
       "    </tr>\n",
       "  </tbody>\n",
       "</table>\n",
       "<p>110023 rows × 15 columns</p>\n",
       "</div>"
      ],
      "text/plain": [
       "        CustomerId   Surname  CreditScore   Age  Tenure    Balance  \\\n",
       "id                                                                   \n",
       "165034    15773898  0.188126          586  23.0       2       0.00   \n",
       "165035    15782418  0.263225          683  46.0       2       0.00   \n",
       "165036    15807120  0.175690          656  34.0       7       0.00   \n",
       "165037    15808905  0.187270          681  36.0       8       0.00   \n",
       "165038    15607314  0.267633          752  38.0      10  121263.62   \n",
       "...            ...       ...          ...   ...     ...        ...   \n",
       "275052    15662091  0.161045          570  29.0       7  116099.82   \n",
       "275053    15774133  0.242410          575  36.0       4  178032.53   \n",
       "275054    15728456  0.271010          712  31.0       2       0.00   \n",
       "275055    15687541  0.255843          709  32.0       3       0.00   \n",
       "275056    15663942  0.160697          621  37.0       7   87848.39   \n",
       "\n",
       "        NumOfProducts  HasCrCard  IsActiveMember  EstimatedSalary  \\\n",
       "id                                                                  \n",
       "165034              2        0.0             1.0        160976.75   \n",
       "165035              1        1.0             0.0         72549.27   \n",
       "165036              2        1.0             0.0        138882.09   \n",
       "165037              1        1.0             0.0        113931.57   \n",
       "165038              1        1.0             0.0        139431.00   \n",
       "...               ...        ...             ...              ...   \n",
       "275052              1        1.0             1.0        148087.62   \n",
       "275053              1        1.0             1.0         42181.68   \n",
       "275054              2        1.0             0.0         16287.38   \n",
       "275055              1        1.0             1.0        158816.58   \n",
       "275056              1        1.0             0.0         24210.56   \n",
       "\n",
       "        Geography_France  Geography_Germany  Geography_Spain  Gender_Female  \\\n",
       "id                                                                            \n",
       "165034               1.0                0.0              0.0            1.0   \n",
       "165035               1.0                0.0              0.0            1.0   \n",
       "165036               1.0                0.0              0.0            1.0   \n",
       "165037               1.0                0.0              0.0            0.0   \n",
       "165038               0.0                1.0              0.0            0.0   \n",
       "...                  ...                ...              ...            ...   \n",
       "275052               0.0                0.0              1.0            0.0   \n",
       "275053               1.0                0.0              0.0            1.0   \n",
       "275054               1.0                0.0              0.0            0.0   \n",
       "275055               1.0                0.0              0.0            1.0   \n",
       "275056               1.0                0.0              0.0            1.0   \n",
       "\n",
       "        Gender_Male  \n",
       "id                   \n",
       "165034          0.0  \n",
       "165035          0.0  \n",
       "165036          0.0  \n",
       "165037          1.0  \n",
       "165038          1.0  \n",
       "...             ...  \n",
       "275052          1.0  \n",
       "275053          0.0  \n",
       "275054          1.0  \n",
       "275055          0.0  \n",
       "275056          0.0  \n",
       "\n",
       "[110023 rows x 15 columns]"
      ]
     },
     "execution_count": 12,
     "metadata": {},
     "output_type": "execute_result"
    }
   ],
   "source": [
    "df_test_mencoded"
   ]
  },
  {
   "cell_type": "markdown",
   "metadata": {},
   "source": [
    "# LGBM optimization"
   ]
  },
  {
   "cell_type": "markdown",
   "metadata": {},
   "source": [
    "## Data processing"
   ]
  },
  {
   "cell_type": "code",
   "execution_count": 13,
   "metadata": {},
   "outputs": [],
   "source": [
    "data = df_train_mencoded\n",
    "target = df_train.Exited"
   ]
  },
  {
   "cell_type": "code",
   "execution_count": 14,
   "metadata": {},
   "outputs": [],
   "source": [
    "from sklearn.model_selection import cross_val_score"
   ]
  },
  {
   "cell_type": "code",
   "execution_count": 17,
   "metadata": {},
   "outputs": [],
   "source": [
    "def objective(trial, data=data,target=target, seed=seed):\n",
    "    \n",
    "    train_x, test_x, train_y, test_y = train_test_split(data, target, test_size=0.2,random_state=seed)\n",
    "    param = {\n",
    "        'random_state': seed,\n",
    "        'n_estimators': 100,\n",
    "        'boosting_type': 'dart',\n",
    "        'reg_alpha': trial.suggest_loguniform('reg_alpha', 1e-3, 10.0),\n",
    "        'reg_lambda': trial.suggest_loguniform('reg_lambda', 1e-3, 10.0),\n",
    "        'colsample_bytree': 0.8,\n",
    "        'subsample': trial.suggest_categorical('subsample', [0.4,0.5,0.6,0.7,0.8,1.0]),\n",
    "        'learning_rate': trial.suggest_categorical('learning_rate', [0.006,0.008,0.01,0.014,0.017,0.02]),\n",
    "        'max_depth': trial.suggest_categorical('max_depth', [10,20,50]),\n",
    "        'num_leaves' : trial.suggest_int('num_leaves', 2, 500),\n",
    "        'min_child_samples': trial.suggest_int('min_child_samples', 1, 300)\n",
    "    }\n",
    "    model = LGBMClassifier(**param)  \n",
    "    \n",
    "    #model.fit(train_x,train_y,eval_set=[(test_x,test_y)])\n",
    "    \n",
    "    #preds = model.predict(test_x)\n",
    "    \n",
    "    score = cross_val_score(model, data, target, cv=5, scoring=make_scorer(roc_auc_score, needs_proba=True), n_jobs=-1).mean()\n",
    "    \n",
    "    return score"
   ]
  },
  {
   "cell_type": "code",
   "execution_count": 18,
   "metadata": {},
   "outputs": [
    {
     "name": "stderr",
     "output_type": "stream",
     "text": [
      "[I 2024-01-11 15:19:38,741] A new study created in memory with name: no-name-581abe9d-2f87-4c7d-b5de-bf405719b138\n",
      "[I 2024-01-11 15:19:42,272] Trial 0 finished with value: 0.8934212947369833 and parameters: {'reg_alpha': 0.12985802439288033, 'reg_lambda': 0.13836791867676862, 'subsample': 0.4, 'learning_rate': 0.008, 'max_depth': 50, 'num_leaves': 43, 'min_child_samples': 88}. Best is trial 0 with value: 0.8934212947369833.\n",
      "[I 2024-01-11 15:19:47,289] Trial 1 finished with value: 0.8963777755590213 and parameters: {'reg_alpha': 0.9391952575860697, 'reg_lambda': 0.08633836272281764, 'subsample': 0.8, 'learning_rate': 0.008, 'max_depth': 10, 'num_leaves': 210, 'min_child_samples': 296}. Best is trial 1 with value: 0.8963777755590213.\n",
      "[I 2024-01-11 15:19:53,244] Trial 2 finished with value: 0.8970701424993195 and parameters: {'reg_alpha': 0.03604062614906168, 'reg_lambda': 0.9454219405299346, 'subsample': 1.0, 'learning_rate': 0.01, 'max_depth': 20, 'num_leaves': 499, 'min_child_samples': 162}. Best is trial 2 with value: 0.8970701424993195.\n",
      "[I 2024-01-11 15:19:58,510] Trial 3 finished with value: 0.8967805788346563 and parameters: {'reg_alpha': 1.9808372679499544, 'reg_lambda': 0.0034329390418409915, 'subsample': 0.6, 'learning_rate': 0.01, 'max_depth': 20, 'num_leaves': 219, 'min_child_samples': 164}. Best is trial 2 with value: 0.8970701424993195.\n",
      "[I 2024-01-11 15:20:01,571] Trial 4 finished with value: 0.8904270661292596 and parameters: {'reg_alpha': 0.8218272923919768, 'reg_lambda': 0.009805501530945001, 'subsample': 1.0, 'learning_rate': 0.006, 'max_depth': 50, 'num_leaves': 27, 'min_child_samples': 233}. Best is trial 2 with value: 0.8970701424993195.\n",
      "[I 2024-01-11 15:20:05,032] Trial 5 finished with value: 0.8958263690518263 and parameters: {'reg_alpha': 0.0010257834820464435, 'reg_lambda': 0.17166729260043984, 'subsample': 0.6, 'learning_rate': 0.02, 'max_depth': 20, 'num_leaves': 63, 'min_child_samples': 149}. Best is trial 2 with value: 0.8970701424993195.\n",
      "[I 2024-01-11 15:20:10,057] Trial 6 finished with value: 0.8971392924066695 and parameters: {'reg_alpha': 1.5680166936808329, 'reg_lambda': 0.006597411474324268, 'subsample': 0.4, 'learning_rate': 0.02, 'max_depth': 50, 'num_leaves': 218, 'min_child_samples': 84}. Best is trial 6 with value: 0.8971392924066695.\n",
      "[I 2024-01-11 15:20:14,283] Trial 7 finished with value: 0.8960960992728613 and parameters: {'reg_alpha': 0.11330617022519877, 'reg_lambda': 9.877638335092549, 'subsample': 0.7, 'learning_rate': 0.014, 'max_depth': 10, 'num_leaves': 150, 'min_child_samples': 272}. Best is trial 6 with value: 0.8971392924066695.\n",
      "[I 2024-01-11 15:20:19,846] Trial 8 finished with value: 0.896914850669293 and parameters: {'reg_alpha': 0.004393686195227088, 'reg_lambda': 0.00632604834324214, 'subsample': 0.8, 'learning_rate': 0.017, 'max_depth': 10, 'num_leaves': 484, 'min_child_samples': 293}. Best is trial 6 with value: 0.8971392924066695.\n",
      "[I 2024-01-11 15:20:23,941] Trial 9 finished with value: 0.8962778085137444 and parameters: {'reg_alpha': 4.965218559447213, 'reg_lambda': 0.0014544327832329083, 'subsample': 0.7, 'learning_rate': 0.017, 'max_depth': 50, 'num_leaves': 367, 'min_child_samples': 281}. Best is trial 6 with value: 0.8971392924066695.\n",
      "[I 2024-01-11 15:20:28,942] Trial 10 finished with value: 0.8964955293928071 and parameters: {'reg_alpha': 7.567859995034056, 'reg_lambda': 0.02424099414807378, 'subsample': 0.4, 'learning_rate': 0.02, 'max_depth': 50, 'num_leaves': 330, 'min_child_samples': 12}. Best is trial 6 with value: 0.8971392924066695.\n",
      "[I 2024-01-11 15:20:36,273] Trial 11 finished with value: 0.8970000216787545 and parameters: {'reg_alpha': 0.01811703441312389, 'reg_lambda': 0.3799532873196181, 'subsample': 0.5, 'learning_rate': 0.01, 'max_depth': 20, 'num_leaves': 491, 'min_child_samples': 113}. Best is trial 6 with value: 0.8971392924066695.\n",
      "[I 2024-01-11 15:20:42,552] Trial 12 finished with value: 0.8968918728749165 and parameters: {'reg_alpha': 0.035799374794865, 'reg_lambda': 1.0466972514661457, 'subsample': 1.0, 'learning_rate': 0.01, 'max_depth': 20, 'num_leaves': 322, 'min_child_samples': 49}. Best is trial 6 with value: 0.8971392924066695.\n",
      "[I 2024-01-11 15:20:47,938] Trial 13 finished with value: 0.8972557293187989 and parameters: {'reg_alpha': 0.3046968883186528, 'reg_lambda': 2.2401017884415846, 'subsample': 1.0, 'learning_rate': 0.02, 'max_depth': 20, 'num_leaves': 396, 'min_child_samples': 191}. Best is trial 13 with value: 0.8972557293187989.\n",
      "[I 2024-01-11 15:20:52,620] Trial 14 finished with value: 0.896742884431645 and parameters: {'reg_alpha': 0.3093636797740396, 'reg_lambda': 8.48612573520561, 'subsample': 0.4, 'learning_rate': 0.02, 'max_depth': 50, 'num_leaves': 396, 'min_child_samples': 213}. Best is trial 13 with value: 0.8972557293187989.\n",
      "[I 2024-01-11 15:20:57,240] Trial 15 finished with value: 0.8968599716707851 and parameters: {'reg_alpha': 0.4296311619587497, 'reg_lambda': 0.038532847499266214, 'subsample': 0.5, 'learning_rate': 0.02, 'max_depth': 20, 'num_leaves': 130, 'min_child_samples': 103}. Best is trial 13 with value: 0.8972557293187989.\n",
      "[I 2024-01-11 15:21:01,611] Trial 16 finished with value: 0.8966845387028697 and parameters: {'reg_alpha': 3.294399980099787, 'reg_lambda': 2.930164876901403, 'subsample': 0.4, 'learning_rate': 0.02, 'max_depth': 50, 'num_leaves': 278, 'min_child_samples': 199}. Best is trial 13 with value: 0.8972557293187989.\n",
      "[I 2024-01-11 15:21:07,587] Trial 17 finished with value: 0.8969797510797723 and parameters: {'reg_alpha': 1.689925989927009, 'reg_lambda': 0.02163017287093652, 'subsample': 1.0, 'learning_rate': 0.006, 'max_depth': 20, 'num_leaves': 416, 'min_child_samples': 65}. Best is trial 13 with value: 0.8972557293187989.\n",
      "[I 2024-01-11 15:21:13,165] Trial 18 finished with value: 0.8971746361790356 and parameters: {'reg_alpha': 0.3343223069910028, 'reg_lambda': 0.503627232475517, 'subsample': 1.0, 'learning_rate': 0.014, 'max_depth': 50, 'num_leaves': 263, 'min_child_samples': 131}. Best is trial 13 with value: 0.8972557293187989.\n",
      "[I 2024-01-11 15:21:18,295] Trial 19 finished with value: 0.8971624345154698 and parameters: {'reg_alpha': 0.25370725344011263, 'reg_lambda': 2.2776865583890515, 'subsample': 1.0, 'learning_rate': 0.014, 'max_depth': 10, 'num_leaves': 290, 'min_child_samples': 133}. Best is trial 13 with value: 0.8972557293187989.\n",
      "[I 2024-01-11 15:21:24,866] Trial 20 finished with value: 0.8971608939041433 and parameters: {'reg_alpha': 0.04560293755053577, 'reg_lambda': 0.481930074079157, 'subsample': 1.0, 'learning_rate': 0.014, 'max_depth': 50, 'num_leaves': 404, 'min_child_samples': 184}. Best is trial 13 with value: 0.8972557293187989.\n",
      "[I 2024-01-11 15:21:29,990] Trial 21 finished with value: 0.8971312451559854 and parameters: {'reg_alpha': 0.33641507204271276, 'reg_lambda': 2.8019326261650077, 'subsample': 1.0, 'learning_rate': 0.014, 'max_depth': 10, 'num_leaves': 280, 'min_child_samples': 129}. Best is trial 13 with value: 0.8972557293187989.\n",
      "[I 2024-01-11 15:21:34,792] Trial 22 finished with value: 0.8967484806215019 and parameters: {'reg_alpha': 0.1610445763097667, 'reg_lambda': 2.518608549798065, 'subsample': 1.0, 'learning_rate': 0.014, 'max_depth': 10, 'num_leaves': 326, 'min_child_samples': 244}. Best is trial 13 with value: 0.8972557293187989.\n",
      "[I 2024-01-11 15:21:40,115] Trial 23 finished with value: 0.8971410221769597 and parameters: {'reg_alpha': 0.5539430425482521, 'reg_lambda': 1.253008121751731, 'subsample': 1.0, 'learning_rate': 0.014, 'max_depth': 10, 'num_leaves': 276, 'min_child_samples': 144}. Best is trial 13 with value: 0.8972557293187989.\n",
      "[I 2024-01-11 15:21:45,406] Trial 24 finished with value: 0.8968937222507118 and parameters: {'reg_alpha': 0.2343026009231832, 'reg_lambda': 0.3726354001896659, 'subsample': 1.0, 'learning_rate': 0.014, 'max_depth': 10, 'num_leaves': 169, 'min_child_samples': 181}. Best is trial 13 with value: 0.8972557293187989.\n",
      "[I 2024-01-11 15:21:50,674] Trial 25 finished with value: 0.8969929985207227 and parameters: {'reg_alpha': 0.057101773336202526, 'reg_lambda': 4.7713247909973715, 'subsample': 1.0, 'learning_rate': 0.014, 'max_depth': 10, 'num_leaves': 442, 'min_child_samples': 129}. Best is trial 13 with value: 0.8972557293187989.\n",
      "[I 2024-01-11 15:21:56,404] Trial 26 finished with value: 0.8970229743620554 and parameters: {'reg_alpha': 0.019456923074867957, 'reg_lambda': 1.6209950534084114, 'subsample': 1.0, 'learning_rate': 0.014, 'max_depth': 20, 'num_leaves': 358, 'min_child_samples': 220}. Best is trial 13 with value: 0.8972557293187989.\n",
      "[I 2024-01-11 15:22:01,084] Trial 27 finished with value: 0.8958111907272673 and parameters: {'reg_alpha': 0.0795902452250313, 'reg_lambda': 0.6519347107593058, 'subsample': 0.8, 'learning_rate': 0.006, 'max_depth': 20, 'num_leaves': 103, 'min_child_samples': 182}. Best is trial 13 with value: 0.8972557293187989.\n",
      "[I 2024-01-11 15:22:06,210] Trial 28 finished with value: 0.8966879475045688 and parameters: {'reg_alpha': 0.19293639137444352, 'reg_lambda': 4.624506082202794, 'subsample': 0.5, 'learning_rate': 0.008, 'max_depth': 10, 'num_leaves': 246, 'min_child_samples': 37}. Best is trial 13 with value: 0.8972557293187989.\n",
      "[I 2024-01-11 15:22:12,773] Trial 29 finished with value: 0.8972066605819309 and parameters: {'reg_alpha': 0.9151888060478349, 'reg_lambda': 0.19150282014907435, 'subsample': 0.7, 'learning_rate': 0.017, 'max_depth': 50, 'num_leaves': 439, 'min_child_samples': 83}. Best is trial 13 with value: 0.8972557293187989.\n",
      "[I 2024-01-11 15:22:20,407] Trial 30 finished with value: 0.8971896087648312 and parameters: {'reg_alpha': 0.5813870169084203, 'reg_lambda': 0.17246192011384412, 'subsample': 0.7, 'learning_rate': 0.017, 'max_depth': 50, 'num_leaves': 424, 'min_child_samples': 81}. Best is trial 13 with value: 0.8972557293187989.\n",
      "[I 2024-01-11 15:22:26,782] Trial 31 finished with value: 0.8971601594181198 and parameters: {'reg_alpha': 0.6099441576210958, 'reg_lambda': 0.14516111520438083, 'subsample': 0.7, 'learning_rate': 0.017, 'max_depth': 50, 'num_leaves': 450, 'min_child_samples': 77}. Best is trial 13 with value: 0.8972557293187989.\n",
      "[I 2024-01-11 15:22:33,261] Trial 32 finished with value: 0.8973224197841084 and parameters: {'reg_alpha': 1.068234617043608, 'reg_lambda': 0.07607365458511439, 'subsample': 0.7, 'learning_rate': 0.017, 'max_depth': 50, 'num_leaves': 436, 'min_child_samples': 104}. Best is trial 32 with value: 0.8973224197841084.\n",
      "[I 2024-01-11 15:22:39,631] Trial 33 finished with value: 0.8972875539651037 and parameters: {'reg_alpha': 0.9558389766826845, 'reg_lambda': 0.060144397983076435, 'subsample': 0.7, 'learning_rate': 0.017, 'max_depth': 50, 'num_leaves': 448, 'min_child_samples': 92}. Best is trial 32 with value: 0.8973224197841084.\n",
      "[I 2024-01-11 15:22:45,627] Trial 34 finished with value: 0.8973487329370752 and parameters: {'reg_alpha': 1.1101116773737485, 'reg_lambda': 0.07371866631394602, 'subsample': 0.7, 'learning_rate': 0.017, 'max_depth': 50, 'num_leaves': 468, 'min_child_samples': 96}. Best is trial 34 with value: 0.8973487329370752.\n",
      "[I 2024-01-11 15:22:51,746] Trial 35 finished with value: 0.8973600962839852 and parameters: {'reg_alpha': 1.3242012241595005, 'reg_lambda': 0.07745428848322031, 'subsample': 0.7, 'learning_rate': 0.017, 'max_depth': 50, 'num_leaves': 377, 'min_child_samples': 106}. Best is trial 35 with value: 0.8973600962839852.\n",
      "[I 2024-01-11 15:22:56,635] Trial 36 finished with value: 0.8969363713884251 and parameters: {'reg_alpha': 3.6633827498941125, 'reg_lambda': 0.06632164272426744, 'subsample': 0.7, 'learning_rate': 0.017, 'max_depth': 50, 'num_leaves': 480, 'min_child_samples': 108}. Best is trial 35 with value: 0.8973600962839852.\n",
      "[I 2024-01-11 15:23:02,890] Trial 37 finished with value: 0.8971724534695402 and parameters: {'reg_alpha': 1.2550351151680574, 'reg_lambda': 0.07638599170664113, 'subsample': 0.7, 'learning_rate': 0.017, 'max_depth': 50, 'num_leaves': 460, 'min_child_samples': 58}. Best is trial 35 with value: 0.8973600962839852.\n",
      "[I 2024-01-11 15:23:08,413] Trial 38 finished with value: 0.8971631057691093 and parameters: {'reg_alpha': 2.6910344253170964, 'reg_lambda': 0.03992955470659839, 'subsample': 0.7, 'learning_rate': 0.017, 'max_depth': 50, 'num_leaves': 363, 'min_child_samples': 97}. Best is trial 35 with value: 0.8973600962839852.\n",
      "[I 2024-01-11 15:23:13,457] Trial 39 finished with value: 0.8965322174912551 and parameters: {'reg_alpha': 6.454400838442282, 'reg_lambda': 0.014554585424709943, 'subsample': 0.7, 'learning_rate': 0.017, 'max_depth': 50, 'num_leaves': 471, 'min_child_samples': 29}. Best is trial 35 with value: 0.8973600962839852.\n",
      "[I 2024-01-11 15:23:19,603] Trial 40 finished with value: 0.8970116119268818 and parameters: {'reg_alpha': 1.085335562203383, 'reg_lambda': 0.046162053549007716, 'subsample': 0.6, 'learning_rate': 0.008, 'max_depth': 50, 'num_leaves': 382, 'min_child_samples': 159}. Best is trial 35 with value: 0.8973600962839852.\n",
      "[I 2024-01-11 15:23:25,231] Trial 41 finished with value: 0.8972308206640985 and parameters: {'reg_alpha': 2.0176273668304994, 'reg_lambda': 0.11032752171969677, 'subsample': 0.7, 'learning_rate': 0.017, 'max_depth': 50, 'num_leaves': 428, 'min_child_samples': 116}. Best is trial 35 with value: 0.8973600962839852.\n",
      "[I 2024-01-11 15:23:31,472] Trial 42 finished with value: 0.8972410142840456 and parameters: {'reg_alpha': 0.7896362368104834, 'reg_lambda': 0.21528242848834017, 'subsample': 0.7, 'learning_rate': 0.017, 'max_depth': 50, 'num_leaves': 391, 'min_child_samples': 95}. Best is trial 35 with value: 0.8973600962839852.\n",
      "[I 2024-01-11 15:23:37,192] Trial 43 finished with value: 0.897258914144761 and parameters: {'reg_alpha': 2.19511102446123, 'reg_lambda': 0.06436682863474522, 'subsample': 0.7, 'learning_rate': 0.017, 'max_depth': 50, 'num_leaves': 462, 'min_child_samples': 70}. Best is trial 35 with value: 0.8973600962839852.\n",
      "[I 2024-01-11 15:23:43,375] Trial 44 finished with value: 0.8972719353624627 and parameters: {'reg_alpha': 2.077239712017502, 'reg_lambda': 0.06433648955091024, 'subsample': 0.7, 'learning_rate': 0.017, 'max_depth': 50, 'num_leaves': 499, 'min_child_samples': 65}. Best is trial 35 with value: 0.8973600962839852.\n",
      "[I 2024-01-11 15:23:48,227] Trial 45 finished with value: 0.8960377474868769 and parameters: {'reg_alpha': 9.298021470149438, 'reg_lambda': 0.023083540792877083, 'subsample': 0.7, 'learning_rate': 0.017, 'max_depth': 50, 'num_leaves': 496, 'min_child_samples': 48}. Best is trial 35 with value: 0.8973600962839852.\n",
      "[I 2024-01-11 15:23:49,571] Trial 46 finished with value: 0.8635609023839331 and parameters: {'reg_alpha': 4.368541932612748, 'reg_lambda': 0.11419064125983705, 'subsample': 0.7, 'learning_rate': 0.017, 'max_depth': 50, 'num_leaves': 4, 'min_child_samples': 10}. Best is trial 35 with value: 0.8973600962839852.\n",
      "[I 2024-01-11 15:23:55,618] Trial 47 finished with value: 0.8973500717515692 and parameters: {'reg_alpha': 1.4257020280527894, 'reg_lambda': 0.011473663923168351, 'subsample': 0.6, 'learning_rate': 0.017, 'max_depth': 50, 'num_leaves': 474, 'min_child_samples': 117}. Best is trial 35 with value: 0.8973600962839852.\n",
      "[I 2024-01-11 15:24:01,557] Trial 48 finished with value: 0.8971449089076335 and parameters: {'reg_alpha': 1.3122929712663414, 'reg_lambda': 0.007628703264020836, 'subsample': 0.6, 'learning_rate': 0.01, 'max_depth': 50, 'num_leaves': 343, 'min_child_samples': 117}. Best is trial 35 with value: 0.8973600962839852.\n",
      "[I 2024-01-11 15:24:06,559] Trial 49 finished with value: 0.8966789465283564 and parameters: {'reg_alpha': 5.233332076049618, 'reg_lambda': 0.0033206468624327984, 'subsample': 0.6, 'learning_rate': 0.017, 'max_depth': 50, 'num_leaves': 471, 'min_child_samples': 92}. Best is trial 35 with value: 0.8973600962839852.\n",
      "[I 2024-01-11 15:24:12,968] Trial 50 finished with value: 0.8972703020416034 and parameters: {'reg_alpha': 0.8862680101169234, 'reg_lambda': 0.003159577815446766, 'subsample': 0.6, 'learning_rate': 0.017, 'max_depth': 50, 'num_leaves': 412, 'min_child_samples': 157}. Best is trial 35 with value: 0.8973600962839852.\n",
      "[I 2024-01-11 15:24:18,913] Trial 51 finished with value: 0.8971525841550105 and parameters: {'reg_alpha': 2.6141192406301084, 'reg_lambda': 0.014786817149635497, 'subsample': 0.8, 'learning_rate': 0.017, 'max_depth': 50, 'num_leaves': 487, 'min_child_samples': 104}. Best is trial 35 with value: 0.8973600962839852.\n",
      "[I 2024-01-11 15:24:25,526] Trial 52 finished with value: 0.8972423596150139 and parameters: {'reg_alpha': 1.536004788166142, 'reg_lambda': 0.030817851941864906, 'subsample': 0.7, 'learning_rate': 0.017, 'max_depth': 50, 'num_leaves': 445, 'min_child_samples': 58}. Best is trial 35 with value: 0.8973600962839852.\n",
      "[I 2024-01-11 15:24:33,320] Trial 53 finished with value: 0.8972509358323226 and parameters: {'reg_alpha': 0.0019842440691580933, 'reg_lambda': 0.04966036833687198, 'subsample': 0.7, 'learning_rate': 0.017, 'max_depth': 50, 'num_leaves': 499, 'min_child_samples': 120}. Best is trial 35 with value: 0.8973600962839852.\n",
      "[I 2024-01-11 15:24:40,006] Trial 54 finished with value: 0.8969666433644008 and parameters: {'reg_alpha': 0.4233467831981362, 'reg_lambda': 0.09216441353761327, 'subsample': 0.6, 'learning_rate': 0.006, 'max_depth': 50, 'num_leaves': 434, 'min_child_samples': 143}. Best is trial 35 with value: 0.8973600962839852.\n",
      "[I 2024-01-11 15:24:45,450] Trial 55 finished with value: 0.8971765926367061 and parameters: {'reg_alpha': 2.883343727826476, 'reg_lambda': 0.0012102595497696044, 'subsample': 0.7, 'learning_rate': 0.017, 'max_depth': 50, 'num_leaves': 462, 'min_child_samples': 73}. Best is trial 35 with value: 0.8973600962839852.\n",
      "[I 2024-01-11 15:24:51,328] Trial 56 finished with value: 0.8969945145404388 and parameters: {'reg_alpha': 1.7542484285495081, 'reg_lambda': 0.2841567954087873, 'subsample': 0.4, 'learning_rate': 0.008, 'max_depth': 50, 'num_leaves': 416, 'min_child_samples': 93}. Best is trial 35 with value: 0.8973600962839852.\n",
      "[I 2024-01-11 15:24:57,320] Trial 57 finished with value: 0.8969148343674187 and parameters: {'reg_alpha': 0.6951574711547859, 'reg_lambda': 0.011768285606322393, 'subsample': 0.5, 'learning_rate': 0.01, 'max_depth': 50, 'num_leaves': 374, 'min_child_samples': 37}. Best is trial 35 with value: 0.8973600962839852.\n",
      "[I 2024-01-11 15:25:04,472] Trial 58 finished with value: 0.8972692510316771 and parameters: {'reg_alpha': 0.4494953016437254, 'reg_lambda': 0.052632349166241085, 'subsample': 0.7, 'learning_rate': 0.017, 'max_depth': 50, 'num_leaves': 481, 'min_child_samples': 105}. Best is trial 35 with value: 0.8973600962839852.\n",
      "[I 2024-01-11 15:25:10,864] Trial 59 finished with value: 0.8973474664425899 and parameters: {'reg_alpha': 1.099759614911316, 'reg_lambda': 0.02946722880987003, 'subsample': 0.8, 'learning_rate': 0.017, 'max_depth': 50, 'num_leaves': 455, 'min_child_samples': 137}. Best is trial 35 with value: 0.8973600962839852.\n",
      "[I 2024-01-11 15:25:16,657] Trial 60 finished with value: 0.8972295135072053 and parameters: {'reg_alpha': 1.1534946606760774, 'reg_lambda': 0.0050627033411177955, 'subsample': 0.8, 'learning_rate': 0.017, 'max_depth': 50, 'num_leaves': 399, 'min_child_samples': 173}. Best is trial 35 with value: 0.8973600962839852.\n",
      "[I 2024-01-11 15:25:22,216] Trial 61 finished with value: 0.8972505797526533 and parameters: {'reg_alpha': 1.8906148865587447, 'reg_lambda': 0.030158931191772844, 'subsample': 0.8, 'learning_rate': 0.017, 'max_depth': 50, 'num_leaves': 452, 'min_child_samples': 122}. Best is trial 35 with value: 0.8973600962839852.\n",
      "[I 2024-01-11 15:25:27,309] Trial 62 finished with value: 0.8968242996045079 and parameters: {'reg_alpha': 3.782460525535945, 'reg_lambda': 0.016380984391596642, 'subsample': 0.8, 'learning_rate': 0.017, 'max_depth': 50, 'num_leaves': 474, 'min_child_samples': 139}. Best is trial 35 with value: 0.8973600962839852.\n",
      "[I 2024-01-11 15:25:33,421] Trial 63 finished with value: 0.8972929667405267 and parameters: {'reg_alpha': 1.4242962836363142, 'reg_lambda': 0.03094564691286441, 'subsample': 0.7, 'learning_rate': 0.017, 'max_depth': 50, 'num_leaves': 500, 'min_child_samples': 82}. Best is trial 35 with value: 0.8973600962839852.\n",
      "[I 2024-01-11 15:25:40,067] Trial 64 finished with value: 0.8970301550895943 and parameters: {'reg_alpha': 0.9672221697216873, 'reg_lambda': 0.03181253811914778, 'subsample': 0.8, 'learning_rate': 0.006, 'max_depth': 50, 'num_leaves': 428, 'min_child_samples': 84}. Best is trial 35 with value: 0.8973600962839852.\n",
      "[I 2024-01-11 15:25:47,136] Trial 65 finished with value: 0.8973876324511652 and parameters: {'reg_alpha': 0.4628882531330206, 'reg_lambda': 0.008582599661979353, 'subsample': 0.6, 'learning_rate': 0.02, 'max_depth': 20, 'num_leaves': 451, 'min_child_samples': 151}. Best is trial 65 with value: 0.8973876324511652.\n",
      "[I 2024-01-11 15:25:53,081] Trial 66 finished with value: 0.8971911445872568 and parameters: {'reg_alpha': 0.13684607031092588, 'reg_lambda': 0.008920155551072577, 'subsample': 0.6, 'learning_rate': 0.02, 'max_depth': 20, 'num_leaves': 191, 'min_child_samples': 165}. Best is trial 65 with value: 0.8973876324511652.\n",
      "[I 2024-01-11 15:25:58,433] Trial 67 finished with value: 0.8973380820897422 and parameters: {'reg_alpha': 0.4151169598079674, 'reg_lambda': 0.005071525701596995, 'subsample': 0.6, 'learning_rate': 0.02, 'max_depth': 20, 'num_leaves': 300, 'min_child_samples': 154}. Best is trial 65 with value: 0.8973876324511652.\n",
      "[I 2024-01-11 15:26:04,447] Trial 68 finished with value: 0.8973568963806666 and parameters: {'reg_alpha': 0.4883512269116631, 'reg_lambda': 0.0018462158001258705, 'subsample': 0.6, 'learning_rate': 0.02, 'max_depth': 20, 'num_leaves': 294, 'min_child_samples': 133}. Best is trial 65 with value: 0.8973876324511652.\n",
      "[I 2024-01-11 15:26:10,663] Trial 69 finished with value: 0.8973232539573843 and parameters: {'reg_alpha': 0.09500033465684778, 'reg_lambda': 0.001933647340464092, 'subsample': 0.6, 'learning_rate': 0.02, 'max_depth': 20, 'num_leaves': 341, 'min_child_samples': 154}. Best is trial 65 with value: 0.8973876324511652.\n",
      "[I 2024-01-11 15:26:15,937] Trial 70 finished with value: 0.8973453992201919 and parameters: {'reg_alpha': 0.40064428984098943, 'reg_lambda': 0.0048808427275528745, 'subsample': 0.6, 'learning_rate': 0.02, 'max_depth': 20, 'num_leaves': 304, 'min_child_samples': 148}. Best is trial 65 with value: 0.8973876324511652.\n",
      "[I 2024-01-11 15:26:21,263] Trial 71 finished with value: 0.8973750935515195 and parameters: {'reg_alpha': 0.4312448683664734, 'reg_lambda': 0.005439863073637947, 'subsample': 0.6, 'learning_rate': 0.02, 'max_depth': 20, 'num_leaves': 309, 'min_child_samples': 137}. Best is trial 65 with value: 0.8973876324511652.\n",
      "[I 2024-01-11 15:26:27,331] Trial 72 finished with value: 0.8973119369544522 and parameters: {'reg_alpha': 0.2120192193317459, 'reg_lambda': 0.0022747184061128463, 'subsample': 0.6, 'learning_rate': 0.02, 'max_depth': 20, 'num_leaves': 309, 'min_child_samples': 133}. Best is trial 65 with value: 0.8973876324511652.\n",
      "[I 2024-01-11 15:26:32,272] Trial 73 finished with value: 0.8972717241602709 and parameters: {'reg_alpha': 0.3009364527862872, 'reg_lambda': 0.005024933955042821, 'subsample': 0.6, 'learning_rate': 0.02, 'max_depth': 20, 'num_leaves': 237, 'min_child_samples': 169}. Best is trial 65 with value: 0.8973876324511652.\n",
      "[I 2024-01-11 15:26:38,373] Trial 74 finished with value: 0.8973519356995672 and parameters: {'reg_alpha': 0.5978294206942951, 'reg_lambda': 0.006289803953302662, 'subsample': 0.6, 'learning_rate': 0.02, 'max_depth': 20, 'num_leaves': 308, 'min_child_samples': 148}. Best is trial 65 with value: 0.8973876324511652.\n",
      "[I 2024-01-11 15:26:43,542] Trial 75 finished with value: 0.8973182332237875 and parameters: {'reg_alpha': 0.5561222368890518, 'reg_lambda': 0.009935873047386268, 'subsample': 0.6, 'learning_rate': 0.02, 'max_depth': 20, 'num_leaves': 265, 'min_child_samples': 126}. Best is trial 65 with value: 0.8973876324511652.\n",
      "[I 2024-01-11 15:26:49,694] Trial 76 finished with value: 0.897349446405969 and parameters: {'reg_alpha': 0.5548721536681291, 'reg_lambda': 0.01930007149997883, 'subsample': 0.6, 'learning_rate': 0.02, 'max_depth': 20, 'num_leaves': 353, 'min_child_samples': 141}. Best is trial 65 with value: 0.8973876324511652.\n",
      "[I 2024-01-11 15:26:55,892] Trial 77 finished with value: 0.8973384676999393 and parameters: {'reg_alpha': 0.6770638984701197, 'reg_lambda': 0.006666071681016015, 'subsample': 0.6, 'learning_rate': 0.02, 'max_depth': 20, 'num_leaves': 348, 'min_child_samples': 197}. Best is trial 65 with value: 0.8973876324511652.\n",
      "[I 2024-01-11 15:27:01,389] Trial 78 finished with value: 0.8973120543579631 and parameters: {'reg_alpha': 0.26268039362052925, 'reg_lambda': 0.00216712339300396, 'subsample': 0.6, 'learning_rate': 0.02, 'max_depth': 20, 'num_leaves': 319, 'min_child_samples': 111}. Best is trial 65 with value: 0.8973876324511652.\n",
      "[I 2024-01-11 15:27:08,066] Trial 79 finished with value: 0.8973264221250503 and parameters: {'reg_alpha': 0.16374383346281843, 'reg_lambda': 0.001674675397676331, 'subsample': 0.6, 'learning_rate': 0.02, 'max_depth': 20, 'num_leaves': 379, 'min_child_samples': 145}. Best is trial 65 with value: 0.8973876324511652.\n",
      "[I 2024-01-11 15:27:14,905] Trial 80 finished with value: 0.8973814329168374 and parameters: {'reg_alpha': 0.7655044658589926, 'reg_lambda': 0.002656853439626003, 'subsample': 0.6, 'learning_rate': 0.02, 'max_depth': 20, 'num_leaves': 329, 'min_child_samples': 126}. Best is trial 65 with value: 0.8973876324511652.\n",
      "[I 2024-01-11 15:27:20,841] Trial 81 finished with value: 0.8973446082424802 and parameters: {'reg_alpha': 0.7396299365843951, 'reg_lambda': 0.002658749856153205, 'subsample': 0.6, 'learning_rate': 0.02, 'max_depth': 20, 'num_leaves': 289, 'min_child_samples': 127}. Best is trial 65 with value: 0.8973876324511652.\n",
      "[I 2024-01-11 15:27:27,371] Trial 82 finished with value: 0.8973806427847622 and parameters: {'reg_alpha': 0.49174150749533846, 'reg_lambda': 0.0038917226738618103, 'subsample': 0.6, 'learning_rate': 0.02, 'max_depth': 20, 'num_leaves': 326, 'min_child_samples': 138}. Best is trial 65 with value: 0.8973876324511652.\n",
      "[I 2024-01-11 15:27:33,728] Trial 83 finished with value: 0.8973606651650676 and parameters: {'reg_alpha': 0.5191502844856982, 'reg_lambda': 0.003977335839518263, 'subsample': 0.6, 'learning_rate': 0.02, 'max_depth': 20, 'num_leaves': 328, 'min_child_samples': 140}. Best is trial 65 with value: 0.8973876324511652.\n",
      "[I 2024-01-11 15:27:39,460] Trial 84 finished with value: 0.8973791916108693 and parameters: {'reg_alpha': 0.5064672325666237, 'reg_lambda': 0.0041274580230433, 'subsample': 0.6, 'learning_rate': 0.02, 'max_depth': 20, 'num_leaves': 328, 'min_child_samples': 135}. Best is trial 65 with value: 0.8973876324511652.\n",
      "[I 2024-01-11 15:27:47,141] Trial 85 finished with value: 0.8973461174211395 and parameters: {'reg_alpha': 0.33624290021834585, 'reg_lambda': 0.0040147351555606635, 'subsample': 0.6, 'learning_rate': 0.02, 'max_depth': 20, 'num_leaves': 335, 'min_child_samples': 172}. Best is trial 65 with value: 0.8973876324511652.\n",
      "[I 2024-01-11 15:27:53,758] Trial 86 finished with value: 0.8973675896172759 and parameters: {'reg_alpha': 0.5008178524842435, 'reg_lambda': 0.0011426511311063913, 'subsample': 0.6, 'learning_rate': 0.02, 'max_depth': 20, 'num_leaves': 317, 'min_child_samples': 149}. Best is trial 65 with value: 0.8973876324511652.\n",
      "[I 2024-01-11 15:28:00,318] Trial 87 finished with value: 0.8973308058624433 and parameters: {'reg_alpha': 0.25578382756620943, 'reg_lambda': 0.001152561486871675, 'subsample': 0.6, 'learning_rate': 0.02, 'max_depth': 20, 'num_leaves': 322, 'min_child_samples': 161}. Best is trial 65 with value: 0.8973876324511652.\n",
      "[I 2024-01-11 15:28:06,888] Trial 88 finished with value: 0.8973601466331189 and parameters: {'reg_alpha': 0.46366427466165094, 'reg_lambda': 0.0014976532530903794, 'subsample': 0.6, 'learning_rate': 0.02, 'max_depth': 20, 'num_leaves': 293, 'min_child_samples': 133}. Best is trial 65 with value: 0.8973876324511652.\n",
      "[I 2024-01-11 15:28:12,184] Trial 89 finished with value: 0.8973343874413213 and parameters: {'reg_alpha': 0.3460327122344036, 'reg_lambda': 0.00152210464062787, 'subsample': 0.4, 'learning_rate': 0.02, 'max_depth': 20, 'num_leaves': 270, 'min_child_samples': 124}. Best is trial 65 with value: 0.8973876324511652.\n",
      "[I 2024-01-11 15:28:17,867] Trial 90 finished with value: 0.897261652355749 and parameters: {'reg_alpha': 0.15555394828568597, 'reg_lambda': 0.002780000103887511, 'subsample': 0.6, 'learning_rate': 0.02, 'max_depth': 20, 'num_leaves': 252, 'min_child_samples': 181}. Best is trial 65 with value: 0.8973876324511652.\n",
      "[I 2024-01-11 15:28:23,199] Trial 91 finished with value: 0.897389934560778 and parameters: {'reg_alpha': 0.47912783030143985, 'reg_lambda': 0.0010280123809212156, 'subsample': 0.6, 'learning_rate': 0.02, 'max_depth': 20, 'num_leaves': 290, 'min_child_samples': 137}. Best is trial 91 with value: 0.897389934560778.\n",
      "[I 2024-01-11 15:28:29,767] Trial 92 finished with value: 0.8973610522745886 and parameters: {'reg_alpha': 0.8083725792924982, 'reg_lambda': 0.0010113149290151193, 'subsample': 0.6, 'learning_rate': 0.02, 'max_depth': 20, 'num_leaves': 316, 'min_child_samples': 136}. Best is trial 91 with value: 0.897389934560778.\n",
      "[I 2024-01-11 15:28:35,235] Trial 93 finished with value: 0.8973595637505462 and parameters: {'reg_alpha': 0.7686143875473734, 'reg_lambda': 0.001407424242706141, 'subsample': 0.6, 'learning_rate': 0.02, 'max_depth': 20, 'num_leaves': 283, 'min_child_samples': 136}. Best is trial 91 with value: 0.897389934560778.\n",
      "[I 2024-01-11 15:28:41,791] Trial 94 finished with value: 0.8973550506665153 and parameters: {'reg_alpha': 0.49435892764473094, 'reg_lambda': 0.0010150736466517309, 'subsample': 0.6, 'learning_rate': 0.02, 'max_depth': 20, 'num_leaves': 315, 'min_child_samples': 150}. Best is trial 91 with value: 0.897389934560778.\n",
      "[I 2024-01-11 15:28:47,410] Trial 95 finished with value: 0.8973006095132213 and parameters: {'reg_alpha': 0.20746686879213777, 'reg_lambda': 0.0038130436550726527, 'subsample': 0.6, 'learning_rate': 0.02, 'max_depth': 20, 'num_leaves': 332, 'min_child_samples': 113}. Best is trial 91 with value: 0.897389934560778.\n",
      "[I 2024-01-11 15:28:52,917] Trial 96 finished with value: 0.8972601919616536 and parameters: {'reg_alpha': 0.28748521189138526, 'reg_lambda': 0.0026074551572909926, 'subsample': 0.6, 'learning_rate': 0.02, 'max_depth': 20, 'num_leaves': 232, 'min_child_samples': 163}. Best is trial 91 with value: 0.897389934560778.\n",
      "[I 2024-01-11 15:29:00,058] Trial 97 finished with value: 0.8973547145514214 and parameters: {'reg_alpha': 0.3597737977346724, 'reg_lambda': 0.0012764010485887293, 'subsample': 0.5, 'learning_rate': 0.02, 'max_depth': 20, 'num_leaves': 364, 'min_child_samples': 139}. Best is trial 91 with value: 0.897389934560778.\n",
      "[I 2024-01-11 15:29:05,955] Trial 98 finished with value: 0.8973433905096198 and parameters: {'reg_alpha': 0.8531431065268817, 'reg_lambda': 0.0010125102057304965, 'subsample': 0.6, 'learning_rate': 0.02, 'max_depth': 20, 'num_leaves': 329, 'min_child_samples': 129}. Best is trial 91 with value: 0.897389934560778.\n",
      "[I 2024-01-11 15:29:11,985] Trial 99 finished with value: 0.8973345489040744 and parameters: {'reg_alpha': 0.00601852387794698, 'reg_lambda': 0.002163855897814627, 'subsample': 0.6, 'learning_rate': 0.02, 'max_depth': 20, 'num_leaves': 259, 'min_child_samples': 154}. Best is trial 91 with value: 0.897389934560778.\n"
     ]
    },
    {
     "name": "stdout",
     "output_type": "stream",
     "text": [
      "Number of finished trials:: 100\n",
      "Best trial: {'reg_alpha': 0.47912783030143985, 'reg_lambda': 0.0010280123809212156, 'subsample': 0.6, 'learning_rate': 0.02, 'max_depth': 20, 'num_leaves': 290, 'min_child_samples': 137}\n"
     ]
    }
   ],
   "source": [
    "study = optuna.create_study(direction='maximize')\n",
    "study.optimize(objective, n_trials=100)\n",
    "print(f'Number of finished trials:: {len(study.trials)}')\n",
    "print(f'Best trial: {study.best_trial.params}')"
   ]
  },
  {
   "cell_type": "code",
   "execution_count": null,
   "metadata": {},
   "outputs": [],
   "source": [
    "#study.trials_dataframe()"
   ]
  },
  {
   "cell_type": "code",
   "execution_count": 19,
   "metadata": {},
   "outputs": [
    {
     "data": {
      "application/vnd.plotly.v1+json": {
       "config": {
        "plotlyServerURL": "https://plot.ly"
       },
       "data": [
        {
         "mode": "markers",
         "name": "Objective Value",
         "type": "scatter",
         "x": [
          0,
          1,
          2,
          3,
          4,
          5,
          6,
          7,
          8,
          9,
          10,
          11,
          12,
          13,
          14,
          15,
          16,
          17,
          18,
          19,
          20,
          21,
          22,
          23,
          24,
          25,
          26,
          27,
          28,
          29,
          30,
          31,
          32,
          33,
          34,
          35,
          36,
          37,
          38,
          39,
          40,
          41,
          42,
          43,
          44,
          45,
          46,
          47,
          48,
          49,
          50,
          51,
          52,
          53,
          54,
          55,
          56,
          57,
          58,
          59,
          60,
          61,
          62,
          63,
          64,
          65,
          66,
          67,
          68,
          69,
          70,
          71,
          72,
          73,
          74,
          75,
          76,
          77,
          78,
          79,
          80,
          81,
          82,
          83,
          84,
          85,
          86,
          87,
          88,
          89,
          90,
          91,
          92,
          93,
          94,
          95,
          96,
          97,
          98,
          99
         ],
         "y": [
          0.8934212947369833,
          0.8963777755590213,
          0.8970701424993195,
          0.8967805788346563,
          0.8904270661292596,
          0.8958263690518263,
          0.8971392924066695,
          0.8960960992728613,
          0.896914850669293,
          0.8962778085137444,
          0.8964955293928071,
          0.8970000216787545,
          0.8968918728749165,
          0.8972557293187989,
          0.896742884431645,
          0.8968599716707851,
          0.8966845387028697,
          0.8969797510797723,
          0.8971746361790356,
          0.8971624345154698,
          0.8971608939041433,
          0.8971312451559854,
          0.8967484806215019,
          0.8971410221769597,
          0.8968937222507118,
          0.8969929985207227,
          0.8970229743620554,
          0.8958111907272673,
          0.8966879475045688,
          0.8972066605819309,
          0.8971896087648312,
          0.8971601594181198,
          0.8973224197841084,
          0.8972875539651037,
          0.8973487329370752,
          0.8973600962839852,
          0.8969363713884251,
          0.8971724534695402,
          0.8971631057691093,
          0.8965322174912551,
          0.8970116119268818,
          0.8972308206640985,
          0.8972410142840456,
          0.897258914144761,
          0.8972719353624627,
          0.8960377474868769,
          0.8635609023839331,
          0.8973500717515692,
          0.8971449089076335,
          0.8966789465283564,
          0.8972703020416034,
          0.8971525841550105,
          0.8972423596150139,
          0.8972509358323226,
          0.8969666433644008,
          0.8971765926367061,
          0.8969945145404388,
          0.8969148343674187,
          0.8972692510316771,
          0.8973474664425899,
          0.8972295135072053,
          0.8972505797526533,
          0.8968242996045079,
          0.8972929667405267,
          0.8970301550895943,
          0.8973876324511652,
          0.8971911445872568,
          0.8973380820897422,
          0.8973568963806666,
          0.8973232539573843,
          0.8973453992201919,
          0.8973750935515195,
          0.8973119369544522,
          0.8972717241602709,
          0.8973519356995672,
          0.8973182332237875,
          0.897349446405969,
          0.8973384676999393,
          0.8973120543579631,
          0.8973264221250503,
          0.8973814329168374,
          0.8973446082424802,
          0.8973806427847622,
          0.8973606651650676,
          0.8973791916108693,
          0.8973461174211395,
          0.8973675896172759,
          0.8973308058624433,
          0.8973601466331189,
          0.8973343874413213,
          0.897261652355749,
          0.897389934560778,
          0.8973610522745886,
          0.8973595637505462,
          0.8973550506665153,
          0.8973006095132213,
          0.8972601919616536,
          0.8973547145514214,
          0.8973433905096198,
          0.8973345489040744
         ]
        },
        {
         "mode": "lines",
         "name": "Best Value",
         "type": "scatter",
         "x": [
          0,
          1,
          2,
          3,
          4,
          5,
          6,
          7,
          8,
          9,
          10,
          11,
          12,
          13,
          14,
          15,
          16,
          17,
          18,
          19,
          20,
          21,
          22,
          23,
          24,
          25,
          26,
          27,
          28,
          29,
          30,
          31,
          32,
          33,
          34,
          35,
          36,
          37,
          38,
          39,
          40,
          41,
          42,
          43,
          44,
          45,
          46,
          47,
          48,
          49,
          50,
          51,
          52,
          53,
          54,
          55,
          56,
          57,
          58,
          59,
          60,
          61,
          62,
          63,
          64,
          65,
          66,
          67,
          68,
          69,
          70,
          71,
          72,
          73,
          74,
          75,
          76,
          77,
          78,
          79,
          80,
          81,
          82,
          83,
          84,
          85,
          86,
          87,
          88,
          89,
          90,
          91,
          92,
          93,
          94,
          95,
          96,
          97,
          98,
          99
         ],
         "y": [
          0.8934212947369833,
          0.8963777755590213,
          0.8970701424993195,
          0.8970701424993195,
          0.8970701424993195,
          0.8970701424993195,
          0.8971392924066695,
          0.8971392924066695,
          0.8971392924066695,
          0.8971392924066695,
          0.8971392924066695,
          0.8971392924066695,
          0.8971392924066695,
          0.8972557293187989,
          0.8972557293187989,
          0.8972557293187989,
          0.8972557293187989,
          0.8972557293187989,
          0.8972557293187989,
          0.8972557293187989,
          0.8972557293187989,
          0.8972557293187989,
          0.8972557293187989,
          0.8972557293187989,
          0.8972557293187989,
          0.8972557293187989,
          0.8972557293187989,
          0.8972557293187989,
          0.8972557293187989,
          0.8972557293187989,
          0.8972557293187989,
          0.8972557293187989,
          0.8973224197841084,
          0.8973224197841084,
          0.8973487329370752,
          0.8973600962839852,
          0.8973600962839852,
          0.8973600962839852,
          0.8973600962839852,
          0.8973600962839852,
          0.8973600962839852,
          0.8973600962839852,
          0.8973600962839852,
          0.8973600962839852,
          0.8973600962839852,
          0.8973600962839852,
          0.8973600962839852,
          0.8973600962839852,
          0.8973600962839852,
          0.8973600962839852,
          0.8973600962839852,
          0.8973600962839852,
          0.8973600962839852,
          0.8973600962839852,
          0.8973600962839852,
          0.8973600962839852,
          0.8973600962839852,
          0.8973600962839852,
          0.8973600962839852,
          0.8973600962839852,
          0.8973600962839852,
          0.8973600962839852,
          0.8973600962839852,
          0.8973600962839852,
          0.8973600962839852,
          0.8973876324511652,
          0.8973876324511652,
          0.8973876324511652,
          0.8973876324511652,
          0.8973876324511652,
          0.8973876324511652,
          0.8973876324511652,
          0.8973876324511652,
          0.8973876324511652,
          0.8973876324511652,
          0.8973876324511652,
          0.8973876324511652,
          0.8973876324511652,
          0.8973876324511652,
          0.8973876324511652,
          0.8973876324511652,
          0.8973876324511652,
          0.8973876324511652,
          0.8973876324511652,
          0.8973876324511652,
          0.8973876324511652,
          0.8973876324511652,
          0.8973876324511652,
          0.8973876324511652,
          0.8973876324511652,
          0.8973876324511652,
          0.897389934560778,
          0.897389934560778,
          0.897389934560778,
          0.897389934560778,
          0.897389934560778,
          0.897389934560778,
          0.897389934560778,
          0.897389934560778,
          0.897389934560778
         ]
        },
        {
         "marker": {
          "color": "#cccccc"
         },
         "mode": "markers",
         "name": "Infeasible Trial",
         "showlegend": false,
         "type": "scatter",
         "x": [],
         "y": []
        }
       ],
       "layout": {
        "template": {
         "data": {
          "bar": [
           {
            "error_x": {
             "color": "#2a3f5f"
            },
            "error_y": {
             "color": "#2a3f5f"
            },
            "marker": {
             "line": {
              "color": "#E5ECF6",
              "width": 0.5
             },
             "pattern": {
              "fillmode": "overlay",
              "size": 10,
              "solidity": 0.2
             }
            },
            "type": "bar"
           }
          ],
          "barpolar": [
           {
            "marker": {
             "line": {
              "color": "#E5ECF6",
              "width": 0.5
             },
             "pattern": {
              "fillmode": "overlay",
              "size": 10,
              "solidity": 0.2
             }
            },
            "type": "barpolar"
           }
          ],
          "carpet": [
           {
            "aaxis": {
             "endlinecolor": "#2a3f5f",
             "gridcolor": "white",
             "linecolor": "white",
             "minorgridcolor": "white",
             "startlinecolor": "#2a3f5f"
            },
            "baxis": {
             "endlinecolor": "#2a3f5f",
             "gridcolor": "white",
             "linecolor": "white",
             "minorgridcolor": "white",
             "startlinecolor": "#2a3f5f"
            },
            "type": "carpet"
           }
          ],
          "choropleth": [
           {
            "colorbar": {
             "outlinewidth": 0,
             "ticks": ""
            },
            "type": "choropleth"
           }
          ],
          "contour": [
           {
            "colorbar": {
             "outlinewidth": 0,
             "ticks": ""
            },
            "colorscale": [
             [
              0,
              "#0d0887"
             ],
             [
              0.1111111111111111,
              "#46039f"
             ],
             [
              0.2222222222222222,
              "#7201a8"
             ],
             [
              0.3333333333333333,
              "#9c179e"
             ],
             [
              0.4444444444444444,
              "#bd3786"
             ],
             [
              0.5555555555555556,
              "#d8576b"
             ],
             [
              0.6666666666666666,
              "#ed7953"
             ],
             [
              0.7777777777777778,
              "#fb9f3a"
             ],
             [
              0.8888888888888888,
              "#fdca26"
             ],
             [
              1,
              "#f0f921"
             ]
            ],
            "type": "contour"
           }
          ],
          "contourcarpet": [
           {
            "colorbar": {
             "outlinewidth": 0,
             "ticks": ""
            },
            "type": "contourcarpet"
           }
          ],
          "heatmap": [
           {
            "colorbar": {
             "outlinewidth": 0,
             "ticks": ""
            },
            "colorscale": [
             [
              0,
              "#0d0887"
             ],
             [
              0.1111111111111111,
              "#46039f"
             ],
             [
              0.2222222222222222,
              "#7201a8"
             ],
             [
              0.3333333333333333,
              "#9c179e"
             ],
             [
              0.4444444444444444,
              "#bd3786"
             ],
             [
              0.5555555555555556,
              "#d8576b"
             ],
             [
              0.6666666666666666,
              "#ed7953"
             ],
             [
              0.7777777777777778,
              "#fb9f3a"
             ],
             [
              0.8888888888888888,
              "#fdca26"
             ],
             [
              1,
              "#f0f921"
             ]
            ],
            "type": "heatmap"
           }
          ],
          "heatmapgl": [
           {
            "colorbar": {
             "outlinewidth": 0,
             "ticks": ""
            },
            "colorscale": [
             [
              0,
              "#0d0887"
             ],
             [
              0.1111111111111111,
              "#46039f"
             ],
             [
              0.2222222222222222,
              "#7201a8"
             ],
             [
              0.3333333333333333,
              "#9c179e"
             ],
             [
              0.4444444444444444,
              "#bd3786"
             ],
             [
              0.5555555555555556,
              "#d8576b"
             ],
             [
              0.6666666666666666,
              "#ed7953"
             ],
             [
              0.7777777777777778,
              "#fb9f3a"
             ],
             [
              0.8888888888888888,
              "#fdca26"
             ],
             [
              1,
              "#f0f921"
             ]
            ],
            "type": "heatmapgl"
           }
          ],
          "histogram": [
           {
            "marker": {
             "pattern": {
              "fillmode": "overlay",
              "size": 10,
              "solidity": 0.2
             }
            },
            "type": "histogram"
           }
          ],
          "histogram2d": [
           {
            "colorbar": {
             "outlinewidth": 0,
             "ticks": ""
            },
            "colorscale": [
             [
              0,
              "#0d0887"
             ],
             [
              0.1111111111111111,
              "#46039f"
             ],
             [
              0.2222222222222222,
              "#7201a8"
             ],
             [
              0.3333333333333333,
              "#9c179e"
             ],
             [
              0.4444444444444444,
              "#bd3786"
             ],
             [
              0.5555555555555556,
              "#d8576b"
             ],
             [
              0.6666666666666666,
              "#ed7953"
             ],
             [
              0.7777777777777778,
              "#fb9f3a"
             ],
             [
              0.8888888888888888,
              "#fdca26"
             ],
             [
              1,
              "#f0f921"
             ]
            ],
            "type": "histogram2d"
           }
          ],
          "histogram2dcontour": [
           {
            "colorbar": {
             "outlinewidth": 0,
             "ticks": ""
            },
            "colorscale": [
             [
              0,
              "#0d0887"
             ],
             [
              0.1111111111111111,
              "#46039f"
             ],
             [
              0.2222222222222222,
              "#7201a8"
             ],
             [
              0.3333333333333333,
              "#9c179e"
             ],
             [
              0.4444444444444444,
              "#bd3786"
             ],
             [
              0.5555555555555556,
              "#d8576b"
             ],
             [
              0.6666666666666666,
              "#ed7953"
             ],
             [
              0.7777777777777778,
              "#fb9f3a"
             ],
             [
              0.8888888888888888,
              "#fdca26"
             ],
             [
              1,
              "#f0f921"
             ]
            ],
            "type": "histogram2dcontour"
           }
          ],
          "mesh3d": [
           {
            "colorbar": {
             "outlinewidth": 0,
             "ticks": ""
            },
            "type": "mesh3d"
           }
          ],
          "parcoords": [
           {
            "line": {
             "colorbar": {
              "outlinewidth": 0,
              "ticks": ""
             }
            },
            "type": "parcoords"
           }
          ],
          "pie": [
           {
            "automargin": true,
            "type": "pie"
           }
          ],
          "scatter": [
           {
            "fillpattern": {
             "fillmode": "overlay",
             "size": 10,
             "solidity": 0.2
            },
            "type": "scatter"
           }
          ],
          "scatter3d": [
           {
            "line": {
             "colorbar": {
              "outlinewidth": 0,
              "ticks": ""
             }
            },
            "marker": {
             "colorbar": {
              "outlinewidth": 0,
              "ticks": ""
             }
            },
            "type": "scatter3d"
           }
          ],
          "scattercarpet": [
           {
            "marker": {
             "colorbar": {
              "outlinewidth": 0,
              "ticks": ""
             }
            },
            "type": "scattercarpet"
           }
          ],
          "scattergeo": [
           {
            "marker": {
             "colorbar": {
              "outlinewidth": 0,
              "ticks": ""
             }
            },
            "type": "scattergeo"
           }
          ],
          "scattergl": [
           {
            "marker": {
             "colorbar": {
              "outlinewidth": 0,
              "ticks": ""
             }
            },
            "type": "scattergl"
           }
          ],
          "scattermapbox": [
           {
            "marker": {
             "colorbar": {
              "outlinewidth": 0,
              "ticks": ""
             }
            },
            "type": "scattermapbox"
           }
          ],
          "scatterpolar": [
           {
            "marker": {
             "colorbar": {
              "outlinewidth": 0,
              "ticks": ""
             }
            },
            "type": "scatterpolar"
           }
          ],
          "scatterpolargl": [
           {
            "marker": {
             "colorbar": {
              "outlinewidth": 0,
              "ticks": ""
             }
            },
            "type": "scatterpolargl"
           }
          ],
          "scatterternary": [
           {
            "marker": {
             "colorbar": {
              "outlinewidth": 0,
              "ticks": ""
             }
            },
            "type": "scatterternary"
           }
          ],
          "surface": [
           {
            "colorbar": {
             "outlinewidth": 0,
             "ticks": ""
            },
            "colorscale": [
             [
              0,
              "#0d0887"
             ],
             [
              0.1111111111111111,
              "#46039f"
             ],
             [
              0.2222222222222222,
              "#7201a8"
             ],
             [
              0.3333333333333333,
              "#9c179e"
             ],
             [
              0.4444444444444444,
              "#bd3786"
             ],
             [
              0.5555555555555556,
              "#d8576b"
             ],
             [
              0.6666666666666666,
              "#ed7953"
             ],
             [
              0.7777777777777778,
              "#fb9f3a"
             ],
             [
              0.8888888888888888,
              "#fdca26"
             ],
             [
              1,
              "#f0f921"
             ]
            ],
            "type": "surface"
           }
          ],
          "table": [
           {
            "cells": {
             "fill": {
              "color": "#EBF0F8"
             },
             "line": {
              "color": "white"
             }
            },
            "header": {
             "fill": {
              "color": "#C8D4E3"
             },
             "line": {
              "color": "white"
             }
            },
            "type": "table"
           }
          ]
         },
         "layout": {
          "annotationdefaults": {
           "arrowcolor": "#2a3f5f",
           "arrowhead": 0,
           "arrowwidth": 1
          },
          "autotypenumbers": "strict",
          "coloraxis": {
           "colorbar": {
            "outlinewidth": 0,
            "ticks": ""
           }
          },
          "colorscale": {
           "diverging": [
            [
             0,
             "#8e0152"
            ],
            [
             0.1,
             "#c51b7d"
            ],
            [
             0.2,
             "#de77ae"
            ],
            [
             0.3,
             "#f1b6da"
            ],
            [
             0.4,
             "#fde0ef"
            ],
            [
             0.5,
             "#f7f7f7"
            ],
            [
             0.6,
             "#e6f5d0"
            ],
            [
             0.7,
             "#b8e186"
            ],
            [
             0.8,
             "#7fbc41"
            ],
            [
             0.9,
             "#4d9221"
            ],
            [
             1,
             "#276419"
            ]
           ],
           "sequential": [
            [
             0,
             "#0d0887"
            ],
            [
             0.1111111111111111,
             "#46039f"
            ],
            [
             0.2222222222222222,
             "#7201a8"
            ],
            [
             0.3333333333333333,
             "#9c179e"
            ],
            [
             0.4444444444444444,
             "#bd3786"
            ],
            [
             0.5555555555555556,
             "#d8576b"
            ],
            [
             0.6666666666666666,
             "#ed7953"
            ],
            [
             0.7777777777777778,
             "#fb9f3a"
            ],
            [
             0.8888888888888888,
             "#fdca26"
            ],
            [
             1,
             "#f0f921"
            ]
           ],
           "sequentialminus": [
            [
             0,
             "#0d0887"
            ],
            [
             0.1111111111111111,
             "#46039f"
            ],
            [
             0.2222222222222222,
             "#7201a8"
            ],
            [
             0.3333333333333333,
             "#9c179e"
            ],
            [
             0.4444444444444444,
             "#bd3786"
            ],
            [
             0.5555555555555556,
             "#d8576b"
            ],
            [
             0.6666666666666666,
             "#ed7953"
            ],
            [
             0.7777777777777778,
             "#fb9f3a"
            ],
            [
             0.8888888888888888,
             "#fdca26"
            ],
            [
             1,
             "#f0f921"
            ]
           ]
          },
          "colorway": [
           "#636efa",
           "#EF553B",
           "#00cc96",
           "#ab63fa",
           "#FFA15A",
           "#19d3f3",
           "#FF6692",
           "#B6E880",
           "#FF97FF",
           "#FECB52"
          ],
          "font": {
           "color": "#2a3f5f"
          },
          "geo": {
           "bgcolor": "white",
           "lakecolor": "white",
           "landcolor": "#E5ECF6",
           "showlakes": true,
           "showland": true,
           "subunitcolor": "white"
          },
          "hoverlabel": {
           "align": "left"
          },
          "hovermode": "closest",
          "mapbox": {
           "style": "light"
          },
          "paper_bgcolor": "white",
          "plot_bgcolor": "#E5ECF6",
          "polar": {
           "angularaxis": {
            "gridcolor": "white",
            "linecolor": "white",
            "ticks": ""
           },
           "bgcolor": "#E5ECF6",
           "radialaxis": {
            "gridcolor": "white",
            "linecolor": "white",
            "ticks": ""
           }
          },
          "scene": {
           "xaxis": {
            "backgroundcolor": "#E5ECF6",
            "gridcolor": "white",
            "gridwidth": 2,
            "linecolor": "white",
            "showbackground": true,
            "ticks": "",
            "zerolinecolor": "white"
           },
           "yaxis": {
            "backgroundcolor": "#E5ECF6",
            "gridcolor": "white",
            "gridwidth": 2,
            "linecolor": "white",
            "showbackground": true,
            "ticks": "",
            "zerolinecolor": "white"
           },
           "zaxis": {
            "backgroundcolor": "#E5ECF6",
            "gridcolor": "white",
            "gridwidth": 2,
            "linecolor": "white",
            "showbackground": true,
            "ticks": "",
            "zerolinecolor": "white"
           }
          },
          "shapedefaults": {
           "line": {
            "color": "#2a3f5f"
           }
          },
          "ternary": {
           "aaxis": {
            "gridcolor": "white",
            "linecolor": "white",
            "ticks": ""
           },
           "baxis": {
            "gridcolor": "white",
            "linecolor": "white",
            "ticks": ""
           },
           "bgcolor": "#E5ECF6",
           "caxis": {
            "gridcolor": "white",
            "linecolor": "white",
            "ticks": ""
           }
          },
          "title": {
           "x": 0.05
          },
          "xaxis": {
           "automargin": true,
           "gridcolor": "white",
           "linecolor": "white",
           "ticks": "",
           "title": {
            "standoff": 15
           },
           "zerolinecolor": "white",
           "zerolinewidth": 2
          },
          "yaxis": {
           "automargin": true,
           "gridcolor": "white",
           "linecolor": "white",
           "ticks": "",
           "title": {
            "standoff": 15
           },
           "zerolinecolor": "white",
           "zerolinewidth": 2
          }
         }
        },
        "title": {
         "text": "Optimization History Plot"
        },
        "xaxis": {
         "title": {
          "text": "Trial"
         }
        },
        "yaxis": {
         "title": {
          "text": "Objective Value"
         }
        }
       }
      }
     },
     "metadata": {},
     "output_type": "display_data"
    }
   ],
   "source": [
    "optuna.visualization.plot_optimization_history(study)"
   ]
  },
  {
   "cell_type": "code",
   "execution_count": 21,
   "metadata": {},
   "outputs": [
    {
     "data": {
      "application/vnd.plotly.v1+json": {
       "config": {
        "plotlyServerURL": "https://plot.ly"
       },
       "data": [
        {
         "marker": {
          "color": [
           0,
           1,
           2,
           3,
           4,
           5,
           6,
           7,
           8,
           9,
           10,
           11,
           12,
           13,
           14,
           15,
           16,
           17,
           18,
           19,
           20,
           21,
           22,
           23,
           24,
           25,
           26,
           27,
           28,
           29,
           30,
           31,
           32,
           33,
           34,
           35,
           36,
           37,
           38,
           39,
           40,
           41,
           42,
           43,
           44,
           45,
           46,
           47,
           48,
           49,
           50,
           51,
           52,
           53,
           54,
           55,
           56,
           57,
           58,
           59,
           60,
           61,
           62,
           63,
           64,
           65,
           66,
           67,
           68,
           69,
           70,
           71,
           72,
           73,
           74,
           75,
           76,
           77,
           78,
           79,
           80,
           81,
           82,
           83,
           84,
           85,
           86,
           87,
           88,
           89,
           90,
           91,
           92,
           93,
           94,
           95,
           96,
           97,
           98,
           99
          ],
          "colorbar": {
           "title": {
            "text": "Trial"
           },
           "x": 1,
           "xpad": 40
          },
          "colorscale": [
           [
            0,
            "rgb(247,251,255)"
           ],
           [
            0.125,
            "rgb(222,235,247)"
           ],
           [
            0.25,
            "rgb(198,219,239)"
           ],
           [
            0.375,
            "rgb(158,202,225)"
           ],
           [
            0.5,
            "rgb(107,174,214)"
           ],
           [
            0.625,
            "rgb(66,146,198)"
           ],
           [
            0.75,
            "rgb(33,113,181)"
           ],
           [
            0.875,
            "rgb(8,81,156)"
           ],
           [
            1,
            "rgb(8,48,107)"
           ]
          ],
          "line": {
           "color": "Grey",
           "width": 0.5
          },
          "showscale": true
         },
         "mode": "markers",
         "name": "Feasible Trial",
         "showlegend": false,
         "type": "scatter",
         "x": [
          0.008,
          0.008,
          0.01,
          0.01,
          0.006,
          0.02,
          0.02,
          0.014,
          0.017,
          0.017,
          0.02,
          0.01,
          0.01,
          0.02,
          0.02,
          0.02,
          0.02,
          0.006,
          0.014,
          0.014,
          0.014,
          0.014,
          0.014,
          0.014,
          0.014,
          0.014,
          0.014,
          0.006,
          0.008,
          0.017,
          0.017,
          0.017,
          0.017,
          0.017,
          0.017,
          0.017,
          0.017,
          0.017,
          0.017,
          0.017,
          0.008,
          0.017,
          0.017,
          0.017,
          0.017,
          0.017,
          0.017,
          0.017,
          0.01,
          0.017,
          0.017,
          0.017,
          0.017,
          0.017,
          0.006,
          0.017,
          0.008,
          0.01,
          0.017,
          0.017,
          0.017,
          0.017,
          0.017,
          0.017,
          0.006,
          0.02,
          0.02,
          0.02,
          0.02,
          0.02,
          0.02,
          0.02,
          0.02,
          0.02,
          0.02,
          0.02,
          0.02,
          0.02,
          0.02,
          0.02,
          0.02,
          0.02,
          0.02,
          0.02,
          0.02,
          0.02,
          0.02,
          0.02,
          0.02,
          0.02,
          0.02,
          0.02,
          0.02,
          0.02,
          0.02,
          0.02,
          0.02,
          0.02,
          0.02,
          0.02
         ],
         "xaxis": "x",
         "y": [
          0.8934212947369833,
          0.8963777755590213,
          0.8970701424993195,
          0.8967805788346563,
          0.8904270661292596,
          0.8958263690518263,
          0.8971392924066695,
          0.8960960992728613,
          0.896914850669293,
          0.8962778085137444,
          0.8964955293928071,
          0.8970000216787545,
          0.8968918728749165,
          0.8972557293187989,
          0.896742884431645,
          0.8968599716707851,
          0.8966845387028697,
          0.8969797510797723,
          0.8971746361790356,
          0.8971624345154698,
          0.8971608939041433,
          0.8971312451559854,
          0.8967484806215019,
          0.8971410221769597,
          0.8968937222507118,
          0.8969929985207227,
          0.8970229743620554,
          0.8958111907272673,
          0.8966879475045688,
          0.8972066605819309,
          0.8971896087648312,
          0.8971601594181198,
          0.8973224197841084,
          0.8972875539651037,
          0.8973487329370752,
          0.8973600962839852,
          0.8969363713884251,
          0.8971724534695402,
          0.8971631057691093,
          0.8965322174912551,
          0.8970116119268818,
          0.8972308206640985,
          0.8972410142840456,
          0.897258914144761,
          0.8972719353624627,
          0.8960377474868769,
          0.8635609023839331,
          0.8973500717515692,
          0.8971449089076335,
          0.8966789465283564,
          0.8972703020416034,
          0.8971525841550105,
          0.8972423596150139,
          0.8972509358323226,
          0.8969666433644008,
          0.8971765926367061,
          0.8969945145404388,
          0.8969148343674187,
          0.8972692510316771,
          0.8973474664425899,
          0.8972295135072053,
          0.8972505797526533,
          0.8968242996045079,
          0.8972929667405267,
          0.8970301550895943,
          0.8973876324511652,
          0.8971911445872568,
          0.8973380820897422,
          0.8973568963806666,
          0.8973232539573843,
          0.8973453992201919,
          0.8973750935515195,
          0.8973119369544522,
          0.8972717241602709,
          0.8973519356995672,
          0.8973182332237875,
          0.897349446405969,
          0.8973384676999393,
          0.8973120543579631,
          0.8973264221250503,
          0.8973814329168374,
          0.8973446082424802,
          0.8973806427847622,
          0.8973606651650676,
          0.8973791916108693,
          0.8973461174211395,
          0.8973675896172759,
          0.8973308058624433,
          0.8973601466331189,
          0.8973343874413213,
          0.897261652355749,
          0.897389934560778,
          0.8973610522745886,
          0.8973595637505462,
          0.8973550506665153,
          0.8973006095132213,
          0.8972601919616536,
          0.8973547145514214,
          0.8973433905096198,
          0.8973345489040744
         ],
         "yaxis": "y"
        },
        {
         "marker": {
          "color": [
           0,
           1,
           2,
           3,
           4,
           5,
           6,
           7,
           8,
           9,
           10,
           11,
           12,
           13,
           14,
           15,
           16,
           17,
           18,
           19,
           20,
           21,
           22,
           23,
           24,
           25,
           26,
           27,
           28,
           29,
           30,
           31,
           32,
           33,
           34,
           35,
           36,
           37,
           38,
           39,
           40,
           41,
           42,
           43,
           44,
           45,
           46,
           47,
           48,
           49,
           50,
           51,
           52,
           53,
           54,
           55,
           56,
           57,
           58,
           59,
           60,
           61,
           62,
           63,
           64,
           65,
           66,
           67,
           68,
           69,
           70,
           71,
           72,
           73,
           74,
           75,
           76,
           77,
           78,
           79,
           80,
           81,
           82,
           83,
           84,
           85,
           86,
           87,
           88,
           89,
           90,
           91,
           92,
           93,
           94,
           95,
           96,
           97,
           98,
           99
          ],
          "colorbar": {
           "title": {
            "text": "Trial"
           },
           "x": 1,
           "xpad": 40
          },
          "colorscale": [
           [
            0,
            "rgb(247,251,255)"
           ],
           [
            0.125,
            "rgb(222,235,247)"
           ],
           [
            0.25,
            "rgb(198,219,239)"
           ],
           [
            0.375,
            "rgb(158,202,225)"
           ],
           [
            0.5,
            "rgb(107,174,214)"
           ],
           [
            0.625,
            "rgb(66,146,198)"
           ],
           [
            0.75,
            "rgb(33,113,181)"
           ],
           [
            0.875,
            "rgb(8,81,156)"
           ],
           [
            1,
            "rgb(8,48,107)"
           ]
          ],
          "line": {
           "color": "Grey",
           "width": 0.5
          },
          "showscale": false
         },
         "mode": "markers",
         "name": "Feasible Trial",
         "showlegend": false,
         "type": "scatter",
         "x": [
          50,
          10,
          20,
          20,
          50,
          20,
          50,
          10,
          10,
          50,
          50,
          20,
          20,
          20,
          50,
          20,
          50,
          20,
          50,
          10,
          50,
          10,
          10,
          10,
          10,
          10,
          20,
          20,
          10,
          50,
          50,
          50,
          50,
          50,
          50,
          50,
          50,
          50,
          50,
          50,
          50,
          50,
          50,
          50,
          50,
          50,
          50,
          50,
          50,
          50,
          50,
          50,
          50,
          50,
          50,
          50,
          50,
          50,
          50,
          50,
          50,
          50,
          50,
          50,
          50,
          20,
          20,
          20,
          20,
          20,
          20,
          20,
          20,
          20,
          20,
          20,
          20,
          20,
          20,
          20,
          20,
          20,
          20,
          20,
          20,
          20,
          20,
          20,
          20,
          20,
          20,
          20,
          20,
          20,
          20,
          20,
          20,
          20,
          20,
          20
         ],
         "xaxis": "x2",
         "y": [
          0.8934212947369833,
          0.8963777755590213,
          0.8970701424993195,
          0.8967805788346563,
          0.8904270661292596,
          0.8958263690518263,
          0.8971392924066695,
          0.8960960992728613,
          0.896914850669293,
          0.8962778085137444,
          0.8964955293928071,
          0.8970000216787545,
          0.8968918728749165,
          0.8972557293187989,
          0.896742884431645,
          0.8968599716707851,
          0.8966845387028697,
          0.8969797510797723,
          0.8971746361790356,
          0.8971624345154698,
          0.8971608939041433,
          0.8971312451559854,
          0.8967484806215019,
          0.8971410221769597,
          0.8968937222507118,
          0.8969929985207227,
          0.8970229743620554,
          0.8958111907272673,
          0.8966879475045688,
          0.8972066605819309,
          0.8971896087648312,
          0.8971601594181198,
          0.8973224197841084,
          0.8972875539651037,
          0.8973487329370752,
          0.8973600962839852,
          0.8969363713884251,
          0.8971724534695402,
          0.8971631057691093,
          0.8965322174912551,
          0.8970116119268818,
          0.8972308206640985,
          0.8972410142840456,
          0.897258914144761,
          0.8972719353624627,
          0.8960377474868769,
          0.8635609023839331,
          0.8973500717515692,
          0.8971449089076335,
          0.8966789465283564,
          0.8972703020416034,
          0.8971525841550105,
          0.8972423596150139,
          0.8972509358323226,
          0.8969666433644008,
          0.8971765926367061,
          0.8969945145404388,
          0.8969148343674187,
          0.8972692510316771,
          0.8973474664425899,
          0.8972295135072053,
          0.8972505797526533,
          0.8968242996045079,
          0.8972929667405267,
          0.8970301550895943,
          0.8973876324511652,
          0.8971911445872568,
          0.8973380820897422,
          0.8973568963806666,
          0.8973232539573843,
          0.8973453992201919,
          0.8973750935515195,
          0.8973119369544522,
          0.8972717241602709,
          0.8973519356995672,
          0.8973182332237875,
          0.897349446405969,
          0.8973384676999393,
          0.8973120543579631,
          0.8973264221250503,
          0.8973814329168374,
          0.8973446082424802,
          0.8973806427847622,
          0.8973606651650676,
          0.8973791916108693,
          0.8973461174211395,
          0.8973675896172759,
          0.8973308058624433,
          0.8973601466331189,
          0.8973343874413213,
          0.897261652355749,
          0.897389934560778,
          0.8973610522745886,
          0.8973595637505462,
          0.8973550506665153,
          0.8973006095132213,
          0.8972601919616536,
          0.8973547145514214,
          0.8973433905096198,
          0.8973345489040744
         ],
         "yaxis": "y2"
        },
        {
         "marker": {
          "color": [
           0,
           1,
           2,
           3,
           4,
           5,
           6,
           7,
           8,
           9,
           10,
           11,
           12,
           13,
           14,
           15,
           16,
           17,
           18,
           19,
           20,
           21,
           22,
           23,
           24,
           25,
           26,
           27,
           28,
           29,
           30,
           31,
           32,
           33,
           34,
           35,
           36,
           37,
           38,
           39,
           40,
           41,
           42,
           43,
           44,
           45,
           46,
           47,
           48,
           49,
           50,
           51,
           52,
           53,
           54,
           55,
           56,
           57,
           58,
           59,
           60,
           61,
           62,
           63,
           64,
           65,
           66,
           67,
           68,
           69,
           70,
           71,
           72,
           73,
           74,
           75,
           76,
           77,
           78,
           79,
           80,
           81,
           82,
           83,
           84,
           85,
           86,
           87,
           88,
           89,
           90,
           91,
           92,
           93,
           94,
           95,
           96,
           97,
           98,
           99
          ],
          "colorbar": {
           "title": {
            "text": "Trial"
           },
           "x": 1,
           "xpad": 40
          },
          "colorscale": [
           [
            0,
            "rgb(247,251,255)"
           ],
           [
            0.125,
            "rgb(222,235,247)"
           ],
           [
            0.25,
            "rgb(198,219,239)"
           ],
           [
            0.375,
            "rgb(158,202,225)"
           ],
           [
            0.5,
            "rgb(107,174,214)"
           ],
           [
            0.625,
            "rgb(66,146,198)"
           ],
           [
            0.75,
            "rgb(33,113,181)"
           ],
           [
            0.875,
            "rgb(8,81,156)"
           ],
           [
            1,
            "rgb(8,48,107)"
           ]
          ],
          "line": {
           "color": "Grey",
           "width": 0.5
          },
          "showscale": false
         },
         "mode": "markers",
         "name": "Feasible Trial",
         "showlegend": false,
         "type": "scatter",
         "x": [
          88,
          296,
          162,
          164,
          233,
          149,
          84,
          272,
          293,
          281,
          12,
          113,
          49,
          191,
          213,
          103,
          199,
          65,
          131,
          133,
          184,
          129,
          244,
          144,
          181,
          129,
          220,
          182,
          37,
          83,
          81,
          77,
          104,
          92,
          96,
          106,
          108,
          58,
          97,
          29,
          159,
          116,
          95,
          70,
          65,
          48,
          10,
          117,
          117,
          92,
          157,
          104,
          58,
          120,
          143,
          73,
          93,
          37,
          105,
          137,
          173,
          122,
          139,
          82,
          84,
          151,
          165,
          154,
          133,
          154,
          148,
          137,
          133,
          169,
          148,
          126,
          141,
          197,
          111,
          145,
          126,
          127,
          138,
          140,
          135,
          172,
          149,
          161,
          133,
          124,
          181,
          137,
          136,
          136,
          150,
          113,
          163,
          139,
          129,
          154
         ],
         "xaxis": "x3",
         "y": [
          0.8934212947369833,
          0.8963777755590213,
          0.8970701424993195,
          0.8967805788346563,
          0.8904270661292596,
          0.8958263690518263,
          0.8971392924066695,
          0.8960960992728613,
          0.896914850669293,
          0.8962778085137444,
          0.8964955293928071,
          0.8970000216787545,
          0.8968918728749165,
          0.8972557293187989,
          0.896742884431645,
          0.8968599716707851,
          0.8966845387028697,
          0.8969797510797723,
          0.8971746361790356,
          0.8971624345154698,
          0.8971608939041433,
          0.8971312451559854,
          0.8967484806215019,
          0.8971410221769597,
          0.8968937222507118,
          0.8969929985207227,
          0.8970229743620554,
          0.8958111907272673,
          0.8966879475045688,
          0.8972066605819309,
          0.8971896087648312,
          0.8971601594181198,
          0.8973224197841084,
          0.8972875539651037,
          0.8973487329370752,
          0.8973600962839852,
          0.8969363713884251,
          0.8971724534695402,
          0.8971631057691093,
          0.8965322174912551,
          0.8970116119268818,
          0.8972308206640985,
          0.8972410142840456,
          0.897258914144761,
          0.8972719353624627,
          0.8960377474868769,
          0.8635609023839331,
          0.8973500717515692,
          0.8971449089076335,
          0.8966789465283564,
          0.8972703020416034,
          0.8971525841550105,
          0.8972423596150139,
          0.8972509358323226,
          0.8969666433644008,
          0.8971765926367061,
          0.8969945145404388,
          0.8969148343674187,
          0.8972692510316771,
          0.8973474664425899,
          0.8972295135072053,
          0.8972505797526533,
          0.8968242996045079,
          0.8972929667405267,
          0.8970301550895943,
          0.8973876324511652,
          0.8971911445872568,
          0.8973380820897422,
          0.8973568963806666,
          0.8973232539573843,
          0.8973453992201919,
          0.8973750935515195,
          0.8973119369544522,
          0.8972717241602709,
          0.8973519356995672,
          0.8973182332237875,
          0.897349446405969,
          0.8973384676999393,
          0.8973120543579631,
          0.8973264221250503,
          0.8973814329168374,
          0.8973446082424802,
          0.8973806427847622,
          0.8973606651650676,
          0.8973791916108693,
          0.8973461174211395,
          0.8973675896172759,
          0.8973308058624433,
          0.8973601466331189,
          0.8973343874413213,
          0.897261652355749,
          0.897389934560778,
          0.8973610522745886,
          0.8973595637505462,
          0.8973550506665153,
          0.8973006095132213,
          0.8972601919616536,
          0.8973547145514214,
          0.8973433905096198,
          0.8973345489040744
         ],
         "yaxis": "y3"
        },
        {
         "marker": {
          "color": [
           0,
           1,
           2,
           3,
           4,
           5,
           6,
           7,
           8,
           9,
           10,
           11,
           12,
           13,
           14,
           15,
           16,
           17,
           18,
           19,
           20,
           21,
           22,
           23,
           24,
           25,
           26,
           27,
           28,
           29,
           30,
           31,
           32,
           33,
           34,
           35,
           36,
           37,
           38,
           39,
           40,
           41,
           42,
           43,
           44,
           45,
           46,
           47,
           48,
           49,
           50,
           51,
           52,
           53,
           54,
           55,
           56,
           57,
           58,
           59,
           60,
           61,
           62,
           63,
           64,
           65,
           66,
           67,
           68,
           69,
           70,
           71,
           72,
           73,
           74,
           75,
           76,
           77,
           78,
           79,
           80,
           81,
           82,
           83,
           84,
           85,
           86,
           87,
           88,
           89,
           90,
           91,
           92,
           93,
           94,
           95,
           96,
           97,
           98,
           99
          ],
          "colorbar": {
           "title": {
            "text": "Trial"
           },
           "x": 1,
           "xpad": 40
          },
          "colorscale": [
           [
            0,
            "rgb(247,251,255)"
           ],
           [
            0.125,
            "rgb(222,235,247)"
           ],
           [
            0.25,
            "rgb(198,219,239)"
           ],
           [
            0.375,
            "rgb(158,202,225)"
           ],
           [
            0.5,
            "rgb(107,174,214)"
           ],
           [
            0.625,
            "rgb(66,146,198)"
           ],
           [
            0.75,
            "rgb(33,113,181)"
           ],
           [
            0.875,
            "rgb(8,81,156)"
           ],
           [
            1,
            "rgb(8,48,107)"
           ]
          ],
          "line": {
           "color": "Grey",
           "width": 0.5
          },
          "showscale": false
         },
         "mode": "markers",
         "name": "Feasible Trial",
         "showlegend": false,
         "type": "scatter",
         "x": [
          43,
          210,
          499,
          219,
          27,
          63,
          218,
          150,
          484,
          367,
          330,
          491,
          322,
          396,
          396,
          130,
          278,
          416,
          263,
          290,
          404,
          280,
          326,
          276,
          169,
          442,
          358,
          103,
          246,
          439,
          424,
          450,
          436,
          448,
          468,
          377,
          480,
          460,
          363,
          471,
          382,
          428,
          391,
          462,
          499,
          496,
          4,
          474,
          343,
          471,
          412,
          487,
          445,
          499,
          434,
          462,
          416,
          374,
          481,
          455,
          399,
          452,
          474,
          500,
          428,
          451,
          191,
          300,
          294,
          341,
          304,
          309,
          309,
          237,
          308,
          265,
          353,
          348,
          319,
          379,
          329,
          289,
          326,
          328,
          328,
          335,
          317,
          322,
          293,
          270,
          252,
          290,
          316,
          283,
          315,
          332,
          232,
          364,
          329,
          259
         ],
         "xaxis": "x4",
         "y": [
          0.8934212947369833,
          0.8963777755590213,
          0.8970701424993195,
          0.8967805788346563,
          0.8904270661292596,
          0.8958263690518263,
          0.8971392924066695,
          0.8960960992728613,
          0.896914850669293,
          0.8962778085137444,
          0.8964955293928071,
          0.8970000216787545,
          0.8968918728749165,
          0.8972557293187989,
          0.896742884431645,
          0.8968599716707851,
          0.8966845387028697,
          0.8969797510797723,
          0.8971746361790356,
          0.8971624345154698,
          0.8971608939041433,
          0.8971312451559854,
          0.8967484806215019,
          0.8971410221769597,
          0.8968937222507118,
          0.8969929985207227,
          0.8970229743620554,
          0.8958111907272673,
          0.8966879475045688,
          0.8972066605819309,
          0.8971896087648312,
          0.8971601594181198,
          0.8973224197841084,
          0.8972875539651037,
          0.8973487329370752,
          0.8973600962839852,
          0.8969363713884251,
          0.8971724534695402,
          0.8971631057691093,
          0.8965322174912551,
          0.8970116119268818,
          0.8972308206640985,
          0.8972410142840456,
          0.897258914144761,
          0.8972719353624627,
          0.8960377474868769,
          0.8635609023839331,
          0.8973500717515692,
          0.8971449089076335,
          0.8966789465283564,
          0.8972703020416034,
          0.8971525841550105,
          0.8972423596150139,
          0.8972509358323226,
          0.8969666433644008,
          0.8971765926367061,
          0.8969945145404388,
          0.8969148343674187,
          0.8972692510316771,
          0.8973474664425899,
          0.8972295135072053,
          0.8972505797526533,
          0.8968242996045079,
          0.8972929667405267,
          0.8970301550895943,
          0.8973876324511652,
          0.8971911445872568,
          0.8973380820897422,
          0.8973568963806666,
          0.8973232539573843,
          0.8973453992201919,
          0.8973750935515195,
          0.8973119369544522,
          0.8972717241602709,
          0.8973519356995672,
          0.8973182332237875,
          0.897349446405969,
          0.8973384676999393,
          0.8973120543579631,
          0.8973264221250503,
          0.8973814329168374,
          0.8973446082424802,
          0.8973806427847622,
          0.8973606651650676,
          0.8973791916108693,
          0.8973461174211395,
          0.8973675896172759,
          0.8973308058624433,
          0.8973601466331189,
          0.8973343874413213,
          0.897261652355749,
          0.897389934560778,
          0.8973610522745886,
          0.8973595637505462,
          0.8973550506665153,
          0.8973006095132213,
          0.8972601919616536,
          0.8973547145514214,
          0.8973433905096198,
          0.8973345489040744
         ],
         "yaxis": "y4"
        },
        {
         "marker": {
          "color": [
           0,
           1,
           2,
           3,
           4,
           5,
           6,
           7,
           8,
           9,
           10,
           11,
           12,
           13,
           14,
           15,
           16,
           17,
           18,
           19,
           20,
           21,
           22,
           23,
           24,
           25,
           26,
           27,
           28,
           29,
           30,
           31,
           32,
           33,
           34,
           35,
           36,
           37,
           38,
           39,
           40,
           41,
           42,
           43,
           44,
           45,
           46,
           47,
           48,
           49,
           50,
           51,
           52,
           53,
           54,
           55,
           56,
           57,
           58,
           59,
           60,
           61,
           62,
           63,
           64,
           65,
           66,
           67,
           68,
           69,
           70,
           71,
           72,
           73,
           74,
           75,
           76,
           77,
           78,
           79,
           80,
           81,
           82,
           83,
           84,
           85,
           86,
           87,
           88,
           89,
           90,
           91,
           92,
           93,
           94,
           95,
           96,
           97,
           98,
           99
          ],
          "colorbar": {
           "title": {
            "text": "Trial"
           },
           "x": 1,
           "xpad": 40
          },
          "colorscale": [
           [
            0,
            "rgb(247,251,255)"
           ],
           [
            0.125,
            "rgb(222,235,247)"
           ],
           [
            0.25,
            "rgb(198,219,239)"
           ],
           [
            0.375,
            "rgb(158,202,225)"
           ],
           [
            0.5,
            "rgb(107,174,214)"
           ],
           [
            0.625,
            "rgb(66,146,198)"
           ],
           [
            0.75,
            "rgb(33,113,181)"
           ],
           [
            0.875,
            "rgb(8,81,156)"
           ],
           [
            1,
            "rgb(8,48,107)"
           ]
          ],
          "line": {
           "color": "Grey",
           "width": 0.5
          },
          "showscale": false
         },
         "mode": "markers",
         "name": "Feasible Trial",
         "showlegend": false,
         "type": "scatter",
         "x": [
          0.12985802439288033,
          0.9391952575860697,
          0.03604062614906168,
          1.9808372679499544,
          0.8218272923919768,
          0.0010257834820464435,
          1.5680166936808329,
          0.11330617022519877,
          0.004393686195227088,
          4.965218559447213,
          7.567859995034056,
          0.01811703441312389,
          0.035799374794865,
          0.3046968883186528,
          0.3093636797740396,
          0.4296311619587497,
          3.294399980099787,
          1.689925989927009,
          0.3343223069910028,
          0.25370725344011263,
          0.04560293755053577,
          0.33641507204271276,
          0.1610445763097667,
          0.5539430425482521,
          0.2343026009231832,
          0.057101773336202526,
          0.019456923074867957,
          0.0795902452250313,
          0.19293639137444352,
          0.9151888060478349,
          0.5813870169084203,
          0.6099441576210958,
          1.068234617043608,
          0.9558389766826845,
          1.1101116773737485,
          1.3242012241595005,
          3.6633827498941125,
          1.2550351151680574,
          2.6910344253170964,
          6.454400838442282,
          1.085335562203383,
          2.0176273668304994,
          0.7896362368104834,
          2.19511102446123,
          2.077239712017502,
          9.298021470149438,
          4.368541932612748,
          1.4257020280527894,
          1.3122929712663414,
          5.233332076049618,
          0.8862680101169234,
          2.6141192406301084,
          1.536004788166142,
          0.0019842440691580933,
          0.4233467831981362,
          2.883343727826476,
          1.7542484285495081,
          0.6951574711547859,
          0.4494953016437254,
          1.099759614911316,
          1.1534946606760774,
          1.8906148865587447,
          3.782460525535945,
          1.4242962836363142,
          0.9672221697216873,
          0.4628882531330206,
          0.13684607031092588,
          0.4151169598079674,
          0.4883512269116631,
          0.09500033465684778,
          0.40064428984098943,
          0.4312448683664734,
          0.2120192193317459,
          0.3009364527862872,
          0.5978294206942951,
          0.5561222368890518,
          0.5548721536681291,
          0.6770638984701197,
          0.26268039362052925,
          0.16374383346281843,
          0.7655044658589926,
          0.7396299365843951,
          0.49174150749533846,
          0.5191502844856982,
          0.5064672325666237,
          0.33624290021834585,
          0.5008178524842435,
          0.25578382756620943,
          0.46366427466165094,
          0.3460327122344036,
          0.15555394828568597,
          0.47912783030143985,
          0.8083725792924982,
          0.7686143875473734,
          0.49435892764473094,
          0.20746686879213777,
          0.28748521189138526,
          0.3597737977346724,
          0.8531431065268817,
          0.00601852387794698
         ],
         "xaxis": "x5",
         "y": [
          0.8934212947369833,
          0.8963777755590213,
          0.8970701424993195,
          0.8967805788346563,
          0.8904270661292596,
          0.8958263690518263,
          0.8971392924066695,
          0.8960960992728613,
          0.896914850669293,
          0.8962778085137444,
          0.8964955293928071,
          0.8970000216787545,
          0.8968918728749165,
          0.8972557293187989,
          0.896742884431645,
          0.8968599716707851,
          0.8966845387028697,
          0.8969797510797723,
          0.8971746361790356,
          0.8971624345154698,
          0.8971608939041433,
          0.8971312451559854,
          0.8967484806215019,
          0.8971410221769597,
          0.8968937222507118,
          0.8969929985207227,
          0.8970229743620554,
          0.8958111907272673,
          0.8966879475045688,
          0.8972066605819309,
          0.8971896087648312,
          0.8971601594181198,
          0.8973224197841084,
          0.8972875539651037,
          0.8973487329370752,
          0.8973600962839852,
          0.8969363713884251,
          0.8971724534695402,
          0.8971631057691093,
          0.8965322174912551,
          0.8970116119268818,
          0.8972308206640985,
          0.8972410142840456,
          0.897258914144761,
          0.8972719353624627,
          0.8960377474868769,
          0.8635609023839331,
          0.8973500717515692,
          0.8971449089076335,
          0.8966789465283564,
          0.8972703020416034,
          0.8971525841550105,
          0.8972423596150139,
          0.8972509358323226,
          0.8969666433644008,
          0.8971765926367061,
          0.8969945145404388,
          0.8969148343674187,
          0.8972692510316771,
          0.8973474664425899,
          0.8972295135072053,
          0.8972505797526533,
          0.8968242996045079,
          0.8972929667405267,
          0.8970301550895943,
          0.8973876324511652,
          0.8971911445872568,
          0.8973380820897422,
          0.8973568963806666,
          0.8973232539573843,
          0.8973453992201919,
          0.8973750935515195,
          0.8973119369544522,
          0.8972717241602709,
          0.8973519356995672,
          0.8973182332237875,
          0.897349446405969,
          0.8973384676999393,
          0.8973120543579631,
          0.8973264221250503,
          0.8973814329168374,
          0.8973446082424802,
          0.8973806427847622,
          0.8973606651650676,
          0.8973791916108693,
          0.8973461174211395,
          0.8973675896172759,
          0.8973308058624433,
          0.8973601466331189,
          0.8973343874413213,
          0.897261652355749,
          0.897389934560778,
          0.8973610522745886,
          0.8973595637505462,
          0.8973550506665153,
          0.8973006095132213,
          0.8972601919616536,
          0.8973547145514214,
          0.8973433905096198,
          0.8973345489040744
         ],
         "yaxis": "y5"
        },
        {
         "marker": {
          "color": [
           0,
           1,
           2,
           3,
           4,
           5,
           6,
           7,
           8,
           9,
           10,
           11,
           12,
           13,
           14,
           15,
           16,
           17,
           18,
           19,
           20,
           21,
           22,
           23,
           24,
           25,
           26,
           27,
           28,
           29,
           30,
           31,
           32,
           33,
           34,
           35,
           36,
           37,
           38,
           39,
           40,
           41,
           42,
           43,
           44,
           45,
           46,
           47,
           48,
           49,
           50,
           51,
           52,
           53,
           54,
           55,
           56,
           57,
           58,
           59,
           60,
           61,
           62,
           63,
           64,
           65,
           66,
           67,
           68,
           69,
           70,
           71,
           72,
           73,
           74,
           75,
           76,
           77,
           78,
           79,
           80,
           81,
           82,
           83,
           84,
           85,
           86,
           87,
           88,
           89,
           90,
           91,
           92,
           93,
           94,
           95,
           96,
           97,
           98,
           99
          ],
          "colorbar": {
           "title": {
            "text": "Trial"
           },
           "x": 1,
           "xpad": 40
          },
          "colorscale": [
           [
            0,
            "rgb(247,251,255)"
           ],
           [
            0.125,
            "rgb(222,235,247)"
           ],
           [
            0.25,
            "rgb(198,219,239)"
           ],
           [
            0.375,
            "rgb(158,202,225)"
           ],
           [
            0.5,
            "rgb(107,174,214)"
           ],
           [
            0.625,
            "rgb(66,146,198)"
           ],
           [
            0.75,
            "rgb(33,113,181)"
           ],
           [
            0.875,
            "rgb(8,81,156)"
           ],
           [
            1,
            "rgb(8,48,107)"
           ]
          ],
          "line": {
           "color": "Grey",
           "width": 0.5
          },
          "showscale": false
         },
         "mode": "markers",
         "name": "Feasible Trial",
         "showlegend": false,
         "type": "scatter",
         "x": [
          0.13836791867676862,
          0.08633836272281764,
          0.9454219405299346,
          0.0034329390418409915,
          0.009805501530945001,
          0.17166729260043984,
          0.006597411474324268,
          9.877638335092549,
          0.00632604834324214,
          0.0014544327832329083,
          0.02424099414807378,
          0.3799532873196181,
          1.0466972514661457,
          2.2401017884415846,
          8.48612573520561,
          0.038532847499266214,
          2.930164876901403,
          0.02163017287093652,
          0.503627232475517,
          2.2776865583890515,
          0.481930074079157,
          2.8019326261650077,
          2.518608549798065,
          1.253008121751731,
          0.3726354001896659,
          4.7713247909973715,
          1.6209950534084114,
          0.6519347107593058,
          4.624506082202794,
          0.19150282014907435,
          0.17246192011384412,
          0.14516111520438083,
          0.07607365458511439,
          0.060144397983076435,
          0.07371866631394602,
          0.07745428848322031,
          0.06632164272426744,
          0.07638599170664113,
          0.03992955470659839,
          0.014554585424709943,
          0.046162053549007716,
          0.11032752171969677,
          0.21528242848834017,
          0.06436682863474522,
          0.06433648955091024,
          0.023083540792877083,
          0.11419064125983705,
          0.011473663923168351,
          0.007628703264020836,
          0.0033206468624327984,
          0.003159577815446766,
          0.014786817149635497,
          0.030817851941864906,
          0.04966036833687198,
          0.09216441353761327,
          0.0012102595497696044,
          0.2841567954087873,
          0.011768285606322393,
          0.052632349166241085,
          0.02946722880987003,
          0.0050627033411177955,
          0.030158931191772844,
          0.016380984391596642,
          0.03094564691286441,
          0.03181253811914778,
          0.008582599661979353,
          0.008920155551072577,
          0.005071525701596995,
          0.0018462158001258705,
          0.001933647340464092,
          0.0048808427275528745,
          0.005439863073637947,
          0.0022747184061128463,
          0.005024933955042821,
          0.006289803953302662,
          0.009935873047386268,
          0.01930007149997883,
          0.006666071681016015,
          0.00216712339300396,
          0.001674675397676331,
          0.002656853439626003,
          0.002658749856153205,
          0.0038917226738618103,
          0.003977335839518263,
          0.0041274580230433,
          0.0040147351555606635,
          0.0011426511311063913,
          0.001152561486871675,
          0.0014976532530903794,
          0.00152210464062787,
          0.002780000103887511,
          0.0010280123809212156,
          0.0010113149290151193,
          0.001407424242706141,
          0.0010150736466517309,
          0.0038130436550726527,
          0.0026074551572909926,
          0.0012764010485887293,
          0.0010125102057304965,
          0.002163855897814627
         ],
         "xaxis": "x6",
         "y": [
          0.8934212947369833,
          0.8963777755590213,
          0.8970701424993195,
          0.8967805788346563,
          0.8904270661292596,
          0.8958263690518263,
          0.8971392924066695,
          0.8960960992728613,
          0.896914850669293,
          0.8962778085137444,
          0.8964955293928071,
          0.8970000216787545,
          0.8968918728749165,
          0.8972557293187989,
          0.896742884431645,
          0.8968599716707851,
          0.8966845387028697,
          0.8969797510797723,
          0.8971746361790356,
          0.8971624345154698,
          0.8971608939041433,
          0.8971312451559854,
          0.8967484806215019,
          0.8971410221769597,
          0.8968937222507118,
          0.8969929985207227,
          0.8970229743620554,
          0.8958111907272673,
          0.8966879475045688,
          0.8972066605819309,
          0.8971896087648312,
          0.8971601594181198,
          0.8973224197841084,
          0.8972875539651037,
          0.8973487329370752,
          0.8973600962839852,
          0.8969363713884251,
          0.8971724534695402,
          0.8971631057691093,
          0.8965322174912551,
          0.8970116119268818,
          0.8972308206640985,
          0.8972410142840456,
          0.897258914144761,
          0.8972719353624627,
          0.8960377474868769,
          0.8635609023839331,
          0.8973500717515692,
          0.8971449089076335,
          0.8966789465283564,
          0.8972703020416034,
          0.8971525841550105,
          0.8972423596150139,
          0.8972509358323226,
          0.8969666433644008,
          0.8971765926367061,
          0.8969945145404388,
          0.8969148343674187,
          0.8972692510316771,
          0.8973474664425899,
          0.8972295135072053,
          0.8972505797526533,
          0.8968242996045079,
          0.8972929667405267,
          0.8970301550895943,
          0.8973876324511652,
          0.8971911445872568,
          0.8973380820897422,
          0.8973568963806666,
          0.8973232539573843,
          0.8973453992201919,
          0.8973750935515195,
          0.8973119369544522,
          0.8972717241602709,
          0.8973519356995672,
          0.8973182332237875,
          0.897349446405969,
          0.8973384676999393,
          0.8973120543579631,
          0.8973264221250503,
          0.8973814329168374,
          0.8973446082424802,
          0.8973806427847622,
          0.8973606651650676,
          0.8973791916108693,
          0.8973461174211395,
          0.8973675896172759,
          0.8973308058624433,
          0.8973601466331189,
          0.8973343874413213,
          0.897261652355749,
          0.897389934560778,
          0.8973610522745886,
          0.8973595637505462,
          0.8973550506665153,
          0.8973006095132213,
          0.8972601919616536,
          0.8973547145514214,
          0.8973433905096198,
          0.8973345489040744
         ],
         "yaxis": "y6"
        },
        {
         "marker": {
          "color": [
           0,
           1,
           2,
           3,
           4,
           5,
           6,
           7,
           8,
           9,
           10,
           11,
           12,
           13,
           14,
           15,
           16,
           17,
           18,
           19,
           20,
           21,
           22,
           23,
           24,
           25,
           26,
           27,
           28,
           29,
           30,
           31,
           32,
           33,
           34,
           35,
           36,
           37,
           38,
           39,
           40,
           41,
           42,
           43,
           44,
           45,
           46,
           47,
           48,
           49,
           50,
           51,
           52,
           53,
           54,
           55,
           56,
           57,
           58,
           59,
           60,
           61,
           62,
           63,
           64,
           65,
           66,
           67,
           68,
           69,
           70,
           71,
           72,
           73,
           74,
           75,
           76,
           77,
           78,
           79,
           80,
           81,
           82,
           83,
           84,
           85,
           86,
           87,
           88,
           89,
           90,
           91,
           92,
           93,
           94,
           95,
           96,
           97,
           98,
           99
          ],
          "colorbar": {
           "title": {
            "text": "Trial"
           },
           "x": 1,
           "xpad": 40
          },
          "colorscale": [
           [
            0,
            "rgb(247,251,255)"
           ],
           [
            0.125,
            "rgb(222,235,247)"
           ],
           [
            0.25,
            "rgb(198,219,239)"
           ],
           [
            0.375,
            "rgb(158,202,225)"
           ],
           [
            0.5,
            "rgb(107,174,214)"
           ],
           [
            0.625,
            "rgb(66,146,198)"
           ],
           [
            0.75,
            "rgb(33,113,181)"
           ],
           [
            0.875,
            "rgb(8,81,156)"
           ],
           [
            1,
            "rgb(8,48,107)"
           ]
          ],
          "line": {
           "color": "Grey",
           "width": 0.5
          },
          "showscale": false
         },
         "mode": "markers",
         "name": "Feasible Trial",
         "showlegend": false,
         "type": "scatter",
         "x": [
          0.4,
          0.8,
          1,
          0.6,
          1,
          0.6,
          0.4,
          0.7,
          0.8,
          0.7,
          0.4,
          0.5,
          1,
          1,
          0.4,
          0.5,
          0.4,
          1,
          1,
          1,
          1,
          1,
          1,
          1,
          1,
          1,
          1,
          0.8,
          0.5,
          0.7,
          0.7,
          0.7,
          0.7,
          0.7,
          0.7,
          0.7,
          0.7,
          0.7,
          0.7,
          0.7,
          0.6,
          0.7,
          0.7,
          0.7,
          0.7,
          0.7,
          0.7,
          0.6,
          0.6,
          0.6,
          0.6,
          0.8,
          0.7,
          0.7,
          0.6,
          0.7,
          0.4,
          0.5,
          0.7,
          0.8,
          0.8,
          0.8,
          0.8,
          0.7,
          0.8,
          0.6,
          0.6,
          0.6,
          0.6,
          0.6,
          0.6,
          0.6,
          0.6,
          0.6,
          0.6,
          0.6,
          0.6,
          0.6,
          0.6,
          0.6,
          0.6,
          0.6,
          0.6,
          0.6,
          0.6,
          0.6,
          0.6,
          0.6,
          0.6,
          0.4,
          0.6,
          0.6,
          0.6,
          0.6,
          0.6,
          0.6,
          0.6,
          0.5,
          0.6,
          0.6
         ],
         "xaxis": "x7",
         "y": [
          0.8934212947369833,
          0.8963777755590213,
          0.8970701424993195,
          0.8967805788346563,
          0.8904270661292596,
          0.8958263690518263,
          0.8971392924066695,
          0.8960960992728613,
          0.896914850669293,
          0.8962778085137444,
          0.8964955293928071,
          0.8970000216787545,
          0.8968918728749165,
          0.8972557293187989,
          0.896742884431645,
          0.8968599716707851,
          0.8966845387028697,
          0.8969797510797723,
          0.8971746361790356,
          0.8971624345154698,
          0.8971608939041433,
          0.8971312451559854,
          0.8967484806215019,
          0.8971410221769597,
          0.8968937222507118,
          0.8969929985207227,
          0.8970229743620554,
          0.8958111907272673,
          0.8966879475045688,
          0.8972066605819309,
          0.8971896087648312,
          0.8971601594181198,
          0.8973224197841084,
          0.8972875539651037,
          0.8973487329370752,
          0.8973600962839852,
          0.8969363713884251,
          0.8971724534695402,
          0.8971631057691093,
          0.8965322174912551,
          0.8970116119268818,
          0.8972308206640985,
          0.8972410142840456,
          0.897258914144761,
          0.8972719353624627,
          0.8960377474868769,
          0.8635609023839331,
          0.8973500717515692,
          0.8971449089076335,
          0.8966789465283564,
          0.8972703020416034,
          0.8971525841550105,
          0.8972423596150139,
          0.8972509358323226,
          0.8969666433644008,
          0.8971765926367061,
          0.8969945145404388,
          0.8969148343674187,
          0.8972692510316771,
          0.8973474664425899,
          0.8972295135072053,
          0.8972505797526533,
          0.8968242996045079,
          0.8972929667405267,
          0.8970301550895943,
          0.8973876324511652,
          0.8971911445872568,
          0.8973380820897422,
          0.8973568963806666,
          0.8973232539573843,
          0.8973453992201919,
          0.8973750935515195,
          0.8973119369544522,
          0.8972717241602709,
          0.8973519356995672,
          0.8973182332237875,
          0.897349446405969,
          0.8973384676999393,
          0.8973120543579631,
          0.8973264221250503,
          0.8973814329168374,
          0.8973446082424802,
          0.8973806427847622,
          0.8973606651650676,
          0.8973791916108693,
          0.8973461174211395,
          0.8973675896172759,
          0.8973308058624433,
          0.8973601466331189,
          0.8973343874413213,
          0.897261652355749,
          0.897389934560778,
          0.8973610522745886,
          0.8973595637505462,
          0.8973550506665153,
          0.8973006095132213,
          0.8972601919616536,
          0.8973547145514214,
          0.8973433905096198,
          0.8973345489040744
         ],
         "yaxis": "y7"
        }
       ],
       "layout": {
        "template": {
         "data": {
          "bar": [
           {
            "error_x": {
             "color": "#2a3f5f"
            },
            "error_y": {
             "color": "#2a3f5f"
            },
            "marker": {
             "line": {
              "color": "#E5ECF6",
              "width": 0.5
             },
             "pattern": {
              "fillmode": "overlay",
              "size": 10,
              "solidity": 0.2
             }
            },
            "type": "bar"
           }
          ],
          "barpolar": [
           {
            "marker": {
             "line": {
              "color": "#E5ECF6",
              "width": 0.5
             },
             "pattern": {
              "fillmode": "overlay",
              "size": 10,
              "solidity": 0.2
             }
            },
            "type": "barpolar"
           }
          ],
          "carpet": [
           {
            "aaxis": {
             "endlinecolor": "#2a3f5f",
             "gridcolor": "white",
             "linecolor": "white",
             "minorgridcolor": "white",
             "startlinecolor": "#2a3f5f"
            },
            "baxis": {
             "endlinecolor": "#2a3f5f",
             "gridcolor": "white",
             "linecolor": "white",
             "minorgridcolor": "white",
             "startlinecolor": "#2a3f5f"
            },
            "type": "carpet"
           }
          ],
          "choropleth": [
           {
            "colorbar": {
             "outlinewidth": 0,
             "ticks": ""
            },
            "type": "choropleth"
           }
          ],
          "contour": [
           {
            "colorbar": {
             "outlinewidth": 0,
             "ticks": ""
            },
            "colorscale": [
             [
              0,
              "#0d0887"
             ],
             [
              0.1111111111111111,
              "#46039f"
             ],
             [
              0.2222222222222222,
              "#7201a8"
             ],
             [
              0.3333333333333333,
              "#9c179e"
             ],
             [
              0.4444444444444444,
              "#bd3786"
             ],
             [
              0.5555555555555556,
              "#d8576b"
             ],
             [
              0.6666666666666666,
              "#ed7953"
             ],
             [
              0.7777777777777778,
              "#fb9f3a"
             ],
             [
              0.8888888888888888,
              "#fdca26"
             ],
             [
              1,
              "#f0f921"
             ]
            ],
            "type": "contour"
           }
          ],
          "contourcarpet": [
           {
            "colorbar": {
             "outlinewidth": 0,
             "ticks": ""
            },
            "type": "contourcarpet"
           }
          ],
          "heatmap": [
           {
            "colorbar": {
             "outlinewidth": 0,
             "ticks": ""
            },
            "colorscale": [
             [
              0,
              "#0d0887"
             ],
             [
              0.1111111111111111,
              "#46039f"
             ],
             [
              0.2222222222222222,
              "#7201a8"
             ],
             [
              0.3333333333333333,
              "#9c179e"
             ],
             [
              0.4444444444444444,
              "#bd3786"
             ],
             [
              0.5555555555555556,
              "#d8576b"
             ],
             [
              0.6666666666666666,
              "#ed7953"
             ],
             [
              0.7777777777777778,
              "#fb9f3a"
             ],
             [
              0.8888888888888888,
              "#fdca26"
             ],
             [
              1,
              "#f0f921"
             ]
            ],
            "type": "heatmap"
           }
          ],
          "heatmapgl": [
           {
            "colorbar": {
             "outlinewidth": 0,
             "ticks": ""
            },
            "colorscale": [
             [
              0,
              "#0d0887"
             ],
             [
              0.1111111111111111,
              "#46039f"
             ],
             [
              0.2222222222222222,
              "#7201a8"
             ],
             [
              0.3333333333333333,
              "#9c179e"
             ],
             [
              0.4444444444444444,
              "#bd3786"
             ],
             [
              0.5555555555555556,
              "#d8576b"
             ],
             [
              0.6666666666666666,
              "#ed7953"
             ],
             [
              0.7777777777777778,
              "#fb9f3a"
             ],
             [
              0.8888888888888888,
              "#fdca26"
             ],
             [
              1,
              "#f0f921"
             ]
            ],
            "type": "heatmapgl"
           }
          ],
          "histogram": [
           {
            "marker": {
             "pattern": {
              "fillmode": "overlay",
              "size": 10,
              "solidity": 0.2
             }
            },
            "type": "histogram"
           }
          ],
          "histogram2d": [
           {
            "colorbar": {
             "outlinewidth": 0,
             "ticks": ""
            },
            "colorscale": [
             [
              0,
              "#0d0887"
             ],
             [
              0.1111111111111111,
              "#46039f"
             ],
             [
              0.2222222222222222,
              "#7201a8"
             ],
             [
              0.3333333333333333,
              "#9c179e"
             ],
             [
              0.4444444444444444,
              "#bd3786"
             ],
             [
              0.5555555555555556,
              "#d8576b"
             ],
             [
              0.6666666666666666,
              "#ed7953"
             ],
             [
              0.7777777777777778,
              "#fb9f3a"
             ],
             [
              0.8888888888888888,
              "#fdca26"
             ],
             [
              1,
              "#f0f921"
             ]
            ],
            "type": "histogram2d"
           }
          ],
          "histogram2dcontour": [
           {
            "colorbar": {
             "outlinewidth": 0,
             "ticks": ""
            },
            "colorscale": [
             [
              0,
              "#0d0887"
             ],
             [
              0.1111111111111111,
              "#46039f"
             ],
             [
              0.2222222222222222,
              "#7201a8"
             ],
             [
              0.3333333333333333,
              "#9c179e"
             ],
             [
              0.4444444444444444,
              "#bd3786"
             ],
             [
              0.5555555555555556,
              "#d8576b"
             ],
             [
              0.6666666666666666,
              "#ed7953"
             ],
             [
              0.7777777777777778,
              "#fb9f3a"
             ],
             [
              0.8888888888888888,
              "#fdca26"
             ],
             [
              1,
              "#f0f921"
             ]
            ],
            "type": "histogram2dcontour"
           }
          ],
          "mesh3d": [
           {
            "colorbar": {
             "outlinewidth": 0,
             "ticks": ""
            },
            "type": "mesh3d"
           }
          ],
          "parcoords": [
           {
            "line": {
             "colorbar": {
              "outlinewidth": 0,
              "ticks": ""
             }
            },
            "type": "parcoords"
           }
          ],
          "pie": [
           {
            "automargin": true,
            "type": "pie"
           }
          ],
          "scatter": [
           {
            "fillpattern": {
             "fillmode": "overlay",
             "size": 10,
             "solidity": 0.2
            },
            "type": "scatter"
           }
          ],
          "scatter3d": [
           {
            "line": {
             "colorbar": {
              "outlinewidth": 0,
              "ticks": ""
             }
            },
            "marker": {
             "colorbar": {
              "outlinewidth": 0,
              "ticks": ""
             }
            },
            "type": "scatter3d"
           }
          ],
          "scattercarpet": [
           {
            "marker": {
             "colorbar": {
              "outlinewidth": 0,
              "ticks": ""
             }
            },
            "type": "scattercarpet"
           }
          ],
          "scattergeo": [
           {
            "marker": {
             "colorbar": {
              "outlinewidth": 0,
              "ticks": ""
             }
            },
            "type": "scattergeo"
           }
          ],
          "scattergl": [
           {
            "marker": {
             "colorbar": {
              "outlinewidth": 0,
              "ticks": ""
             }
            },
            "type": "scattergl"
           }
          ],
          "scattermapbox": [
           {
            "marker": {
             "colorbar": {
              "outlinewidth": 0,
              "ticks": ""
             }
            },
            "type": "scattermapbox"
           }
          ],
          "scatterpolar": [
           {
            "marker": {
             "colorbar": {
              "outlinewidth": 0,
              "ticks": ""
             }
            },
            "type": "scatterpolar"
           }
          ],
          "scatterpolargl": [
           {
            "marker": {
             "colorbar": {
              "outlinewidth": 0,
              "ticks": ""
             }
            },
            "type": "scatterpolargl"
           }
          ],
          "scatterternary": [
           {
            "marker": {
             "colorbar": {
              "outlinewidth": 0,
              "ticks": ""
             }
            },
            "type": "scatterternary"
           }
          ],
          "surface": [
           {
            "colorbar": {
             "outlinewidth": 0,
             "ticks": ""
            },
            "colorscale": [
             [
              0,
              "#0d0887"
             ],
             [
              0.1111111111111111,
              "#46039f"
             ],
             [
              0.2222222222222222,
              "#7201a8"
             ],
             [
              0.3333333333333333,
              "#9c179e"
             ],
             [
              0.4444444444444444,
              "#bd3786"
             ],
             [
              0.5555555555555556,
              "#d8576b"
             ],
             [
              0.6666666666666666,
              "#ed7953"
             ],
             [
              0.7777777777777778,
              "#fb9f3a"
             ],
             [
              0.8888888888888888,
              "#fdca26"
             ],
             [
              1,
              "#f0f921"
             ]
            ],
            "type": "surface"
           }
          ],
          "table": [
           {
            "cells": {
             "fill": {
              "color": "#EBF0F8"
             },
             "line": {
              "color": "white"
             }
            },
            "header": {
             "fill": {
              "color": "#C8D4E3"
             },
             "line": {
              "color": "white"
             }
            },
            "type": "table"
           }
          ]
         },
         "layout": {
          "annotationdefaults": {
           "arrowcolor": "#2a3f5f",
           "arrowhead": 0,
           "arrowwidth": 1
          },
          "autotypenumbers": "strict",
          "coloraxis": {
           "colorbar": {
            "outlinewidth": 0,
            "ticks": ""
           }
          },
          "colorscale": {
           "diverging": [
            [
             0,
             "#8e0152"
            ],
            [
             0.1,
             "#c51b7d"
            ],
            [
             0.2,
             "#de77ae"
            ],
            [
             0.3,
             "#f1b6da"
            ],
            [
             0.4,
             "#fde0ef"
            ],
            [
             0.5,
             "#f7f7f7"
            ],
            [
             0.6,
             "#e6f5d0"
            ],
            [
             0.7,
             "#b8e186"
            ],
            [
             0.8,
             "#7fbc41"
            ],
            [
             0.9,
             "#4d9221"
            ],
            [
             1,
             "#276419"
            ]
           ],
           "sequential": [
            [
             0,
             "#0d0887"
            ],
            [
             0.1111111111111111,
             "#46039f"
            ],
            [
             0.2222222222222222,
             "#7201a8"
            ],
            [
             0.3333333333333333,
             "#9c179e"
            ],
            [
             0.4444444444444444,
             "#bd3786"
            ],
            [
             0.5555555555555556,
             "#d8576b"
            ],
            [
             0.6666666666666666,
             "#ed7953"
            ],
            [
             0.7777777777777778,
             "#fb9f3a"
            ],
            [
             0.8888888888888888,
             "#fdca26"
            ],
            [
             1,
             "#f0f921"
            ]
           ],
           "sequentialminus": [
            [
             0,
             "#0d0887"
            ],
            [
             0.1111111111111111,
             "#46039f"
            ],
            [
             0.2222222222222222,
             "#7201a8"
            ],
            [
             0.3333333333333333,
             "#9c179e"
            ],
            [
             0.4444444444444444,
             "#bd3786"
            ],
            [
             0.5555555555555556,
             "#d8576b"
            ],
            [
             0.6666666666666666,
             "#ed7953"
            ],
            [
             0.7777777777777778,
             "#fb9f3a"
            ],
            [
             0.8888888888888888,
             "#fdca26"
            ],
            [
             1,
             "#f0f921"
            ]
           ]
          },
          "colorway": [
           "#636efa",
           "#EF553B",
           "#00cc96",
           "#ab63fa",
           "#FFA15A",
           "#19d3f3",
           "#FF6692",
           "#B6E880",
           "#FF97FF",
           "#FECB52"
          ],
          "font": {
           "color": "#2a3f5f"
          },
          "geo": {
           "bgcolor": "white",
           "lakecolor": "white",
           "landcolor": "#E5ECF6",
           "showlakes": true,
           "showland": true,
           "subunitcolor": "white"
          },
          "hoverlabel": {
           "align": "left"
          },
          "hovermode": "closest",
          "mapbox": {
           "style": "light"
          },
          "paper_bgcolor": "white",
          "plot_bgcolor": "#E5ECF6",
          "polar": {
           "angularaxis": {
            "gridcolor": "white",
            "linecolor": "white",
            "ticks": ""
           },
           "bgcolor": "#E5ECF6",
           "radialaxis": {
            "gridcolor": "white",
            "linecolor": "white",
            "ticks": ""
           }
          },
          "scene": {
           "xaxis": {
            "backgroundcolor": "#E5ECF6",
            "gridcolor": "white",
            "gridwidth": 2,
            "linecolor": "white",
            "showbackground": true,
            "ticks": "",
            "zerolinecolor": "white"
           },
           "yaxis": {
            "backgroundcolor": "#E5ECF6",
            "gridcolor": "white",
            "gridwidth": 2,
            "linecolor": "white",
            "showbackground": true,
            "ticks": "",
            "zerolinecolor": "white"
           },
           "zaxis": {
            "backgroundcolor": "#E5ECF6",
            "gridcolor": "white",
            "gridwidth": 2,
            "linecolor": "white",
            "showbackground": true,
            "ticks": "",
            "zerolinecolor": "white"
           }
          },
          "shapedefaults": {
           "line": {
            "color": "#2a3f5f"
           }
          },
          "ternary": {
           "aaxis": {
            "gridcolor": "white",
            "linecolor": "white",
            "ticks": ""
           },
           "baxis": {
            "gridcolor": "white",
            "linecolor": "white",
            "ticks": ""
           },
           "bgcolor": "#E5ECF6",
           "caxis": {
            "gridcolor": "white",
            "linecolor": "white",
            "ticks": ""
           }
          },
          "title": {
           "x": 0.05
          },
          "xaxis": {
           "automargin": true,
           "gridcolor": "white",
           "linecolor": "white",
           "ticks": "",
           "title": {
            "standoff": 15
           },
           "zerolinecolor": "white",
           "zerolinewidth": 2
          },
          "yaxis": {
           "automargin": true,
           "gridcolor": "white",
           "linecolor": "white",
           "ticks": "",
           "title": {
            "standoff": 15
           },
           "zerolinecolor": "white",
           "zerolinewidth": 2
          }
         }
        },
        "title": {
         "text": "Slice Plot"
        },
        "width": 2100,
        "xaxis": {
         "anchor": "y",
         "categoryarray": [
          0.006,
          0.008,
          0.01,
          0.014,
          0.017,
          0.02
         ],
         "categoryorder": "array",
         "domain": [
          0,
          0.1183673469387755
         ],
         "title": {
          "text": "learning_rate"
         },
         "type": "category"
        },
        "xaxis2": {
         "anchor": "y2",
         "categoryarray": [
          10,
          20,
          50
         ],
         "categoryorder": "array",
         "domain": [
          0.14693877551020407,
          0.26530612244897955
         ],
         "title": {
          "text": "max_depth"
         },
         "type": "category"
        },
        "xaxis3": {
         "anchor": "y3",
         "domain": [
          0.29387755102040813,
          0.4122448979591836
         ],
         "title": {
          "text": "min_child_samples"
         }
        },
        "xaxis4": {
         "anchor": "y4",
         "domain": [
          0.4408163265306122,
          0.5591836734693877
         ],
         "title": {
          "text": "num_leaves"
         }
        },
        "xaxis5": {
         "anchor": "y5",
         "domain": [
          0.5877551020408163,
          0.7061224489795918
         ],
         "title": {
          "text": "reg_alpha"
         },
         "type": "log"
        },
        "xaxis6": {
         "anchor": "y6",
         "domain": [
          0.7346938775510204,
          0.8530612244897959
         ],
         "title": {
          "text": "reg_lambda"
         },
         "type": "log"
        },
        "xaxis7": {
         "anchor": "y7",
         "categoryarray": [
          0.4,
          0.5,
          0.6,
          0.7,
          0.8,
          1
         ],
         "categoryorder": "array",
         "domain": [
          0.8816326530612244,
          0.9999999999999999
         ],
         "title": {
          "text": "subsample"
         },
         "type": "category"
        },
        "yaxis": {
         "anchor": "x",
         "domain": [
          0,
          1
         ],
         "title": {
          "text": "Objective Value"
         }
        },
        "yaxis2": {
         "anchor": "x2",
         "domain": [
          0,
          1
         ],
         "matches": "y",
         "showticklabels": false
        },
        "yaxis3": {
         "anchor": "x3",
         "domain": [
          0,
          1
         ],
         "matches": "y",
         "showticklabels": false
        },
        "yaxis4": {
         "anchor": "x4",
         "domain": [
          0,
          1
         ],
         "matches": "y",
         "showticklabels": false
        },
        "yaxis5": {
         "anchor": "x5",
         "domain": [
          0,
          1
         ],
         "matches": "y",
         "showticklabels": false
        },
        "yaxis6": {
         "anchor": "x6",
         "domain": [
          0,
          1
         ],
         "matches": "y",
         "showticklabels": false
        },
        "yaxis7": {
         "anchor": "x7",
         "domain": [
          0,
          1
         ],
         "matches": "y",
         "showticklabels": false
        }
       }
      }
     },
     "metadata": {},
     "output_type": "display_data"
    }
   ],
   "source": [
    "optuna.visualization.plot_slice(study, params=['reg_alpha', 'reg_lambda', 'subsample', 'learning_rate', 'max_depth', 'num_leaves', 'min_child_samples'])"
   ]
  },
  {
   "cell_type": "code",
   "execution_count": 22,
   "metadata": {},
   "outputs": [
    {
     "data": {
      "application/vnd.plotly.v1+json": {
       "config": {
        "plotlyServerURL": "https://plot.ly"
       },
       "data": [
        {
         "cliponaxis": false,
         "hovertemplate": [
          "max_depth (CategoricalDistribution): 9.330497722121205e-05<extra></extra>",
          "reg_lambda (FloatDistribution): 0.000758177497289162<extra></extra>",
          "subsample (CategoricalDistribution): 0.0009030230171530224<extra></extra>",
          "learning_rate (CategoricalDistribution): 0.0009629725431214655<extra></extra>",
          "reg_alpha (FloatDistribution): 0.015160435491327303<extra></extra>",
          "min_child_samples (IntDistribution): 0.34416895895145894<extra></extra>",
          "num_leaves (IntDistribution): 0.6379531275224289<extra></extra>"
         ],
         "name": "Objective Value",
         "orientation": "h",
         "text": [
          "<0.01",
          "<0.01",
          "<0.01",
          "<0.01",
          "0.02",
          "0.34",
          "0.64"
         ],
         "textposition": "outside",
         "type": "bar",
         "x": [
          0.00009330497722121205,
          0.000758177497289162,
          0.0009030230171530224,
          0.0009629725431214655,
          0.015160435491327303,
          0.34416895895145894,
          0.6379531275224289
         ],
         "y": [
          "max_depth",
          "reg_lambda",
          "subsample",
          "learning_rate",
          "reg_alpha",
          "min_child_samples",
          "num_leaves"
         ]
        }
       ],
       "layout": {
        "template": {
         "data": {
          "bar": [
           {
            "error_x": {
             "color": "#2a3f5f"
            },
            "error_y": {
             "color": "#2a3f5f"
            },
            "marker": {
             "line": {
              "color": "#E5ECF6",
              "width": 0.5
             },
             "pattern": {
              "fillmode": "overlay",
              "size": 10,
              "solidity": 0.2
             }
            },
            "type": "bar"
           }
          ],
          "barpolar": [
           {
            "marker": {
             "line": {
              "color": "#E5ECF6",
              "width": 0.5
             },
             "pattern": {
              "fillmode": "overlay",
              "size": 10,
              "solidity": 0.2
             }
            },
            "type": "barpolar"
           }
          ],
          "carpet": [
           {
            "aaxis": {
             "endlinecolor": "#2a3f5f",
             "gridcolor": "white",
             "linecolor": "white",
             "minorgridcolor": "white",
             "startlinecolor": "#2a3f5f"
            },
            "baxis": {
             "endlinecolor": "#2a3f5f",
             "gridcolor": "white",
             "linecolor": "white",
             "minorgridcolor": "white",
             "startlinecolor": "#2a3f5f"
            },
            "type": "carpet"
           }
          ],
          "choropleth": [
           {
            "colorbar": {
             "outlinewidth": 0,
             "ticks": ""
            },
            "type": "choropleth"
           }
          ],
          "contour": [
           {
            "colorbar": {
             "outlinewidth": 0,
             "ticks": ""
            },
            "colorscale": [
             [
              0,
              "#0d0887"
             ],
             [
              0.1111111111111111,
              "#46039f"
             ],
             [
              0.2222222222222222,
              "#7201a8"
             ],
             [
              0.3333333333333333,
              "#9c179e"
             ],
             [
              0.4444444444444444,
              "#bd3786"
             ],
             [
              0.5555555555555556,
              "#d8576b"
             ],
             [
              0.6666666666666666,
              "#ed7953"
             ],
             [
              0.7777777777777778,
              "#fb9f3a"
             ],
             [
              0.8888888888888888,
              "#fdca26"
             ],
             [
              1,
              "#f0f921"
             ]
            ],
            "type": "contour"
           }
          ],
          "contourcarpet": [
           {
            "colorbar": {
             "outlinewidth": 0,
             "ticks": ""
            },
            "type": "contourcarpet"
           }
          ],
          "heatmap": [
           {
            "colorbar": {
             "outlinewidth": 0,
             "ticks": ""
            },
            "colorscale": [
             [
              0,
              "#0d0887"
             ],
             [
              0.1111111111111111,
              "#46039f"
             ],
             [
              0.2222222222222222,
              "#7201a8"
             ],
             [
              0.3333333333333333,
              "#9c179e"
             ],
             [
              0.4444444444444444,
              "#bd3786"
             ],
             [
              0.5555555555555556,
              "#d8576b"
             ],
             [
              0.6666666666666666,
              "#ed7953"
             ],
             [
              0.7777777777777778,
              "#fb9f3a"
             ],
             [
              0.8888888888888888,
              "#fdca26"
             ],
             [
              1,
              "#f0f921"
             ]
            ],
            "type": "heatmap"
           }
          ],
          "heatmapgl": [
           {
            "colorbar": {
             "outlinewidth": 0,
             "ticks": ""
            },
            "colorscale": [
             [
              0,
              "#0d0887"
             ],
             [
              0.1111111111111111,
              "#46039f"
             ],
             [
              0.2222222222222222,
              "#7201a8"
             ],
             [
              0.3333333333333333,
              "#9c179e"
             ],
             [
              0.4444444444444444,
              "#bd3786"
             ],
             [
              0.5555555555555556,
              "#d8576b"
             ],
             [
              0.6666666666666666,
              "#ed7953"
             ],
             [
              0.7777777777777778,
              "#fb9f3a"
             ],
             [
              0.8888888888888888,
              "#fdca26"
             ],
             [
              1,
              "#f0f921"
             ]
            ],
            "type": "heatmapgl"
           }
          ],
          "histogram": [
           {
            "marker": {
             "pattern": {
              "fillmode": "overlay",
              "size": 10,
              "solidity": 0.2
             }
            },
            "type": "histogram"
           }
          ],
          "histogram2d": [
           {
            "colorbar": {
             "outlinewidth": 0,
             "ticks": ""
            },
            "colorscale": [
             [
              0,
              "#0d0887"
             ],
             [
              0.1111111111111111,
              "#46039f"
             ],
             [
              0.2222222222222222,
              "#7201a8"
             ],
             [
              0.3333333333333333,
              "#9c179e"
             ],
             [
              0.4444444444444444,
              "#bd3786"
             ],
             [
              0.5555555555555556,
              "#d8576b"
             ],
             [
              0.6666666666666666,
              "#ed7953"
             ],
             [
              0.7777777777777778,
              "#fb9f3a"
             ],
             [
              0.8888888888888888,
              "#fdca26"
             ],
             [
              1,
              "#f0f921"
             ]
            ],
            "type": "histogram2d"
           }
          ],
          "histogram2dcontour": [
           {
            "colorbar": {
             "outlinewidth": 0,
             "ticks": ""
            },
            "colorscale": [
             [
              0,
              "#0d0887"
             ],
             [
              0.1111111111111111,
              "#46039f"
             ],
             [
              0.2222222222222222,
              "#7201a8"
             ],
             [
              0.3333333333333333,
              "#9c179e"
             ],
             [
              0.4444444444444444,
              "#bd3786"
             ],
             [
              0.5555555555555556,
              "#d8576b"
             ],
             [
              0.6666666666666666,
              "#ed7953"
             ],
             [
              0.7777777777777778,
              "#fb9f3a"
             ],
             [
              0.8888888888888888,
              "#fdca26"
             ],
             [
              1,
              "#f0f921"
             ]
            ],
            "type": "histogram2dcontour"
           }
          ],
          "mesh3d": [
           {
            "colorbar": {
             "outlinewidth": 0,
             "ticks": ""
            },
            "type": "mesh3d"
           }
          ],
          "parcoords": [
           {
            "line": {
             "colorbar": {
              "outlinewidth": 0,
              "ticks": ""
             }
            },
            "type": "parcoords"
           }
          ],
          "pie": [
           {
            "automargin": true,
            "type": "pie"
           }
          ],
          "scatter": [
           {
            "fillpattern": {
             "fillmode": "overlay",
             "size": 10,
             "solidity": 0.2
            },
            "type": "scatter"
           }
          ],
          "scatter3d": [
           {
            "line": {
             "colorbar": {
              "outlinewidth": 0,
              "ticks": ""
             }
            },
            "marker": {
             "colorbar": {
              "outlinewidth": 0,
              "ticks": ""
             }
            },
            "type": "scatter3d"
           }
          ],
          "scattercarpet": [
           {
            "marker": {
             "colorbar": {
              "outlinewidth": 0,
              "ticks": ""
             }
            },
            "type": "scattercarpet"
           }
          ],
          "scattergeo": [
           {
            "marker": {
             "colorbar": {
              "outlinewidth": 0,
              "ticks": ""
             }
            },
            "type": "scattergeo"
           }
          ],
          "scattergl": [
           {
            "marker": {
             "colorbar": {
              "outlinewidth": 0,
              "ticks": ""
             }
            },
            "type": "scattergl"
           }
          ],
          "scattermapbox": [
           {
            "marker": {
             "colorbar": {
              "outlinewidth": 0,
              "ticks": ""
             }
            },
            "type": "scattermapbox"
           }
          ],
          "scatterpolar": [
           {
            "marker": {
             "colorbar": {
              "outlinewidth": 0,
              "ticks": ""
             }
            },
            "type": "scatterpolar"
           }
          ],
          "scatterpolargl": [
           {
            "marker": {
             "colorbar": {
              "outlinewidth": 0,
              "ticks": ""
             }
            },
            "type": "scatterpolargl"
           }
          ],
          "scatterternary": [
           {
            "marker": {
             "colorbar": {
              "outlinewidth": 0,
              "ticks": ""
             }
            },
            "type": "scatterternary"
           }
          ],
          "surface": [
           {
            "colorbar": {
             "outlinewidth": 0,
             "ticks": ""
            },
            "colorscale": [
             [
              0,
              "#0d0887"
             ],
             [
              0.1111111111111111,
              "#46039f"
             ],
             [
              0.2222222222222222,
              "#7201a8"
             ],
             [
              0.3333333333333333,
              "#9c179e"
             ],
             [
              0.4444444444444444,
              "#bd3786"
             ],
             [
              0.5555555555555556,
              "#d8576b"
             ],
             [
              0.6666666666666666,
              "#ed7953"
             ],
             [
              0.7777777777777778,
              "#fb9f3a"
             ],
             [
              0.8888888888888888,
              "#fdca26"
             ],
             [
              1,
              "#f0f921"
             ]
            ],
            "type": "surface"
           }
          ],
          "table": [
           {
            "cells": {
             "fill": {
              "color": "#EBF0F8"
             },
             "line": {
              "color": "white"
             }
            },
            "header": {
             "fill": {
              "color": "#C8D4E3"
             },
             "line": {
              "color": "white"
             }
            },
            "type": "table"
           }
          ]
         },
         "layout": {
          "annotationdefaults": {
           "arrowcolor": "#2a3f5f",
           "arrowhead": 0,
           "arrowwidth": 1
          },
          "autotypenumbers": "strict",
          "coloraxis": {
           "colorbar": {
            "outlinewidth": 0,
            "ticks": ""
           }
          },
          "colorscale": {
           "diverging": [
            [
             0,
             "#8e0152"
            ],
            [
             0.1,
             "#c51b7d"
            ],
            [
             0.2,
             "#de77ae"
            ],
            [
             0.3,
             "#f1b6da"
            ],
            [
             0.4,
             "#fde0ef"
            ],
            [
             0.5,
             "#f7f7f7"
            ],
            [
             0.6,
             "#e6f5d0"
            ],
            [
             0.7,
             "#b8e186"
            ],
            [
             0.8,
             "#7fbc41"
            ],
            [
             0.9,
             "#4d9221"
            ],
            [
             1,
             "#276419"
            ]
           ],
           "sequential": [
            [
             0,
             "#0d0887"
            ],
            [
             0.1111111111111111,
             "#46039f"
            ],
            [
             0.2222222222222222,
             "#7201a8"
            ],
            [
             0.3333333333333333,
             "#9c179e"
            ],
            [
             0.4444444444444444,
             "#bd3786"
            ],
            [
             0.5555555555555556,
             "#d8576b"
            ],
            [
             0.6666666666666666,
             "#ed7953"
            ],
            [
             0.7777777777777778,
             "#fb9f3a"
            ],
            [
             0.8888888888888888,
             "#fdca26"
            ],
            [
             1,
             "#f0f921"
            ]
           ],
           "sequentialminus": [
            [
             0,
             "#0d0887"
            ],
            [
             0.1111111111111111,
             "#46039f"
            ],
            [
             0.2222222222222222,
             "#7201a8"
            ],
            [
             0.3333333333333333,
             "#9c179e"
            ],
            [
             0.4444444444444444,
             "#bd3786"
            ],
            [
             0.5555555555555556,
             "#d8576b"
            ],
            [
             0.6666666666666666,
             "#ed7953"
            ],
            [
             0.7777777777777778,
             "#fb9f3a"
            ],
            [
             0.8888888888888888,
             "#fdca26"
            ],
            [
             1,
             "#f0f921"
            ]
           ]
          },
          "colorway": [
           "#636efa",
           "#EF553B",
           "#00cc96",
           "#ab63fa",
           "#FFA15A",
           "#19d3f3",
           "#FF6692",
           "#B6E880",
           "#FF97FF",
           "#FECB52"
          ],
          "font": {
           "color": "#2a3f5f"
          },
          "geo": {
           "bgcolor": "white",
           "lakecolor": "white",
           "landcolor": "#E5ECF6",
           "showlakes": true,
           "showland": true,
           "subunitcolor": "white"
          },
          "hoverlabel": {
           "align": "left"
          },
          "hovermode": "closest",
          "mapbox": {
           "style": "light"
          },
          "paper_bgcolor": "white",
          "plot_bgcolor": "#E5ECF6",
          "polar": {
           "angularaxis": {
            "gridcolor": "white",
            "linecolor": "white",
            "ticks": ""
           },
           "bgcolor": "#E5ECF6",
           "radialaxis": {
            "gridcolor": "white",
            "linecolor": "white",
            "ticks": ""
           }
          },
          "scene": {
           "xaxis": {
            "backgroundcolor": "#E5ECF6",
            "gridcolor": "white",
            "gridwidth": 2,
            "linecolor": "white",
            "showbackground": true,
            "ticks": "",
            "zerolinecolor": "white"
           },
           "yaxis": {
            "backgroundcolor": "#E5ECF6",
            "gridcolor": "white",
            "gridwidth": 2,
            "linecolor": "white",
            "showbackground": true,
            "ticks": "",
            "zerolinecolor": "white"
           },
           "zaxis": {
            "backgroundcolor": "#E5ECF6",
            "gridcolor": "white",
            "gridwidth": 2,
            "linecolor": "white",
            "showbackground": true,
            "ticks": "",
            "zerolinecolor": "white"
           }
          },
          "shapedefaults": {
           "line": {
            "color": "#2a3f5f"
           }
          },
          "ternary": {
           "aaxis": {
            "gridcolor": "white",
            "linecolor": "white",
            "ticks": ""
           },
           "baxis": {
            "gridcolor": "white",
            "linecolor": "white",
            "ticks": ""
           },
           "bgcolor": "#E5ECF6",
           "caxis": {
            "gridcolor": "white",
            "linecolor": "white",
            "ticks": ""
           }
          },
          "title": {
           "x": 0.05
          },
          "xaxis": {
           "automargin": true,
           "gridcolor": "white",
           "linecolor": "white",
           "ticks": "",
           "title": {
            "standoff": 15
           },
           "zerolinecolor": "white",
           "zerolinewidth": 2
          },
          "yaxis": {
           "automargin": true,
           "gridcolor": "white",
           "linecolor": "white",
           "ticks": "",
           "title": {
            "standoff": 15
           },
           "zerolinecolor": "white",
           "zerolinewidth": 2
          }
         }
        },
        "title": {
         "text": "Hyperparameter Importances"
        },
        "xaxis": {
         "title": {
          "text": "Hyperparameter Importance"
         }
        },
        "yaxis": {
         "title": {
          "text": "Hyperparameter"
         }
        }
       }
      }
     },
     "metadata": {},
     "output_type": "display_data"
    }
   ],
   "source": [
    "optuna.visualization.plot_param_importances(study)"
   ]
  },
  {
   "cell_type": "code",
   "execution_count": null,
   "metadata": {},
   "outputs": [],
   "source": [
    "#splits = 5\n",
    "#skf = StratifiedKFold(n_splits = splits, random_state = seed, shuffle = True)\n",
    "#np.random.seed(seed)"
   ]
  },
  {
   "cell_type": "code",
   "execution_count": null,
   "metadata": {},
   "outputs": [],
   "source": [
    "#params = study.best_params\n",
    "#params['random_state'] = seed\n",
    "#params['n_estimators'] = 100"
   ]
  },
  {
   "cell_type": "code",
   "execution_count": 23,
   "metadata": {},
   "outputs": [
    {
     "data": {
      "text/plain": [
       "{'reg_alpha': 0.47912783030143985,\n",
       " 'reg_lambda': 0.0010280123809212156,\n",
       " 'subsample': 0.6,\n",
       " 'learning_rate': 0.02,\n",
       " 'max_depth': 20,\n",
       " 'num_leaves': 290,\n",
       " 'min_child_samples': 137}"
      ]
     },
     "execution_count": 23,
     "metadata": {},
     "output_type": "execute_result"
    }
   ],
   "source": [
    "study.best_params"
   ]
  },
  {
   "cell_type": "code",
   "execution_count": 25,
   "metadata": {},
   "outputs": [],
   "source": [
    "best_model = LGBMClassifier(random_state=seed, \n",
    "               n_estimators=100, \n",
    "               boosting_type='dart',\n",
    "               colsample_bytree=0.8,\n",
    "               reg_alpha=0.47912783030143985,\n",
    "               reg_lambda=0.0010280123809212156,\n",
    "               subsample=0.6,\n",
    "               learning_rate=0.02,\n",
    "               max_depth=20,\n",
    "               num_leaves=290,\n",
    "               min_child_samples=137\n",
    "               )"
   ]
  },
  {
   "cell_type": "code",
   "execution_count": 26,
   "metadata": {},
   "outputs": [
    {
     "name": "stdout",
     "output_type": "stream",
     "text": [
      "[LightGBM] [Info] Number of positive: 34921, number of negative: 130113\n",
      "[LightGBM] [Info] Auto-choosing row-wise multi-threading, the overhead of testing was 0.001039 seconds.\n",
      "You can set `force_row_wise=true` to remove the overhead.\n",
      "And if memory is not enough, you can set `force_col_wise=true`.\n",
      "[LightGBM] [Info] Total Bins 1373\n",
      "[LightGBM] [Info] Number of data points in the train set: 165034, number of used features: 15\n",
      "[LightGBM] [Info] [binary:BoostFromScore]: pavg=0.211599 -> initscore=-1.315315\n",
      "[LightGBM] [Info] Start training from score -1.315315\n"
     ]
    },
    {
     "data": {
      "text/html": [
       "<style>#sk-container-id-2 {color: black;}#sk-container-id-2 pre{padding: 0;}#sk-container-id-2 div.sk-toggleable {background-color: white;}#sk-container-id-2 label.sk-toggleable__label {cursor: pointer;display: block;width: 100%;margin-bottom: 0;padding: 0.3em;box-sizing: border-box;text-align: center;}#sk-container-id-2 label.sk-toggleable__label-arrow:before {content: \"▸\";float: left;margin-right: 0.25em;color: #696969;}#sk-container-id-2 label.sk-toggleable__label-arrow:hover:before {color: black;}#sk-container-id-2 div.sk-estimator:hover label.sk-toggleable__label-arrow:before {color: black;}#sk-container-id-2 div.sk-toggleable__content {max-height: 0;max-width: 0;overflow: hidden;text-align: left;background-color: #f0f8ff;}#sk-container-id-2 div.sk-toggleable__content pre {margin: 0.2em;color: black;border-radius: 0.25em;background-color: #f0f8ff;}#sk-container-id-2 input.sk-toggleable__control:checked~div.sk-toggleable__content {max-height: 200px;max-width: 100%;overflow: auto;}#sk-container-id-2 input.sk-toggleable__control:checked~label.sk-toggleable__label-arrow:before {content: \"▾\";}#sk-container-id-2 div.sk-estimator input.sk-toggleable__control:checked~label.sk-toggleable__label {background-color: #d4ebff;}#sk-container-id-2 div.sk-label input.sk-toggleable__control:checked~label.sk-toggleable__label {background-color: #d4ebff;}#sk-container-id-2 input.sk-hidden--visually {border: 0;clip: rect(1px 1px 1px 1px);clip: rect(1px, 1px, 1px, 1px);height: 1px;margin: -1px;overflow: hidden;padding: 0;position: absolute;width: 1px;}#sk-container-id-2 div.sk-estimator {font-family: monospace;background-color: #f0f8ff;border: 1px dotted black;border-radius: 0.25em;box-sizing: border-box;margin-bottom: 0.5em;}#sk-container-id-2 div.sk-estimator:hover {background-color: #d4ebff;}#sk-container-id-2 div.sk-parallel-item::after {content: \"\";width: 100%;border-bottom: 1px solid gray;flex-grow: 1;}#sk-container-id-2 div.sk-label:hover label.sk-toggleable__label {background-color: #d4ebff;}#sk-container-id-2 div.sk-serial::before {content: \"\";position: absolute;border-left: 1px solid gray;box-sizing: border-box;top: 0;bottom: 0;left: 50%;z-index: 0;}#sk-container-id-2 div.sk-serial {display: flex;flex-direction: column;align-items: center;background-color: white;padding-right: 0.2em;padding-left: 0.2em;position: relative;}#sk-container-id-2 div.sk-item {position: relative;z-index: 1;}#sk-container-id-2 div.sk-parallel {display: flex;align-items: stretch;justify-content: center;background-color: white;position: relative;}#sk-container-id-2 div.sk-item::before, #sk-container-id-2 div.sk-parallel-item::before {content: \"\";position: absolute;border-left: 1px solid gray;box-sizing: border-box;top: 0;bottom: 0;left: 50%;z-index: -1;}#sk-container-id-2 div.sk-parallel-item {display: flex;flex-direction: column;z-index: 1;position: relative;background-color: white;}#sk-container-id-2 div.sk-parallel-item:first-child::after {align-self: flex-end;width: 50%;}#sk-container-id-2 div.sk-parallel-item:last-child::after {align-self: flex-start;width: 50%;}#sk-container-id-2 div.sk-parallel-item:only-child::after {width: 0;}#sk-container-id-2 div.sk-dashed-wrapped {border: 1px dashed gray;margin: 0 0.4em 0.5em 0.4em;box-sizing: border-box;padding-bottom: 0.4em;background-color: white;}#sk-container-id-2 div.sk-label label {font-family: monospace;font-weight: bold;display: inline-block;line-height: 1.2em;}#sk-container-id-2 div.sk-label-container {text-align: center;}#sk-container-id-2 div.sk-container {/* jupyter's `normalize.less` sets `[hidden] { display: none; }` but bootstrap.min.css set `[hidden] { display: none !important; }` so we also need the `!important` here to be able to override the default hidden behavior on the sphinx rendered scikit-learn.org. See: https://github.com/scikit-learn/scikit-learn/issues/21755 */display: inline-block !important;position: relative;}#sk-container-id-2 div.sk-text-repr-fallback {display: none;}</style><div id=\"sk-container-id-2\" class=\"sk-top-container\"><div class=\"sk-text-repr-fallback\"><pre>LGBMClassifier(boosting_type=&#x27;dart&#x27;, colsample_bytree=0.8, learning_rate=0.02,\n",
       "               max_depth=20, min_child_samples=137, num_leaves=290,\n",
       "               random_state=10, reg_alpha=0.47912783030143985,\n",
       "               reg_lambda=0.0010280123809212156, subsample=0.6)</pre><b>In a Jupyter environment, please rerun this cell to show the HTML representation or trust the notebook. <br />On GitHub, the HTML representation is unable to render, please try loading this page with nbviewer.org.</b></div><div class=\"sk-container\" hidden><div class=\"sk-item\"><div class=\"sk-estimator sk-toggleable\"><input class=\"sk-toggleable__control sk-hidden--visually\" id=\"sk-estimator-id-2\" type=\"checkbox\" checked><label for=\"sk-estimator-id-2\" class=\"sk-toggleable__label sk-toggleable__label-arrow\">LGBMClassifier</label><div class=\"sk-toggleable__content\"><pre>LGBMClassifier(boosting_type=&#x27;dart&#x27;, colsample_bytree=0.8, learning_rate=0.02,\n",
       "               max_depth=20, min_child_samples=137, num_leaves=290,\n",
       "               random_state=10, reg_alpha=0.47912783030143985,\n",
       "               reg_lambda=0.0010280123809212156, subsample=0.6)</pre></div></div></div></div></div>"
      ],
      "text/plain": [
       "LGBMClassifier(boosting_type='dart', colsample_bytree=0.8, learning_rate=0.02,\n",
       "               max_depth=20, min_child_samples=137, num_leaves=290,\n",
       "               random_state=10, reg_alpha=0.47912783030143985,\n",
       "               reg_lambda=0.0010280123809212156, subsample=0.6)"
      ]
     },
     "execution_count": 26,
     "metadata": {},
     "output_type": "execute_result"
    }
   ],
   "source": [
    "best_model.fit(data, target)"
   ]
  },
  {
   "cell_type": "code",
   "execution_count": 29,
   "metadata": {},
   "outputs": [],
   "source": [
    "submission = df_test_mencoded.copy()\n",
    "submission['Exited'] = best_model.predict_proba(submission)[:, 1]\n",
    "\n"
   ]
  },
  {
   "cell_type": "code",
   "execution_count": 32,
   "metadata": {},
   "outputs": [],
   "source": [
    "submission.Exited.to_csv('data/submission_lgbm.csv')"
   ]
  },
  {
   "cell_type": "code",
   "execution_count": null,
   "metadata": {},
   "outputs": [],
   "source": []
  }
 ],
 "metadata": {
  "kernelspec": {
   "display_name": ".venv",
   "language": "python",
   "name": "python3"
  },
  "language_info": {
   "codemirror_mode": {
    "name": "ipython",
    "version": 3
   },
   "file_extension": ".py",
   "mimetype": "text/x-python",
   "name": "python",
   "nbconvert_exporter": "python",
   "pygments_lexer": "ipython3",
   "version": "3.11.7"
  }
 },
 "nbformat": 4,
 "nbformat_minor": 2
}
